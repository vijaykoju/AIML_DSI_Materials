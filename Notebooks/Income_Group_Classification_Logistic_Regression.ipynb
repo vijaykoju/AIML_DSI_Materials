{
 "cells": [
  {
   "cell_type": "markdown",
   "id": "e3b88836",
   "metadata": {
    "id": "HXJ7MT8d9WJL"
   },
   "source": [
    "## Income Group Classification"
   ]
  },
  {
   "cell_type": "markdown",
   "id": "85a7235e",
   "metadata": {
    "id": "WNvGGvrD9WJS"
   },
   "source": [
    "### Dataset\n",
    "\n",
    "* age: continuous - age of a Person \n",
    "* workclass: Where does a person works - categorical -Private, Self-emp-not-inc, Self-emp-inc, Federal-gov, Local-gov, State-gov, Without-pay, Never-worked.\n",
    "* fnlwgt: continuous\n",
    "* education: Degree the person has - Bachelors, Some-college, 11th, HS-grad, Prof-school, Assoc-acdm, Assoc-voc, 9th, 7th-8th, 12th, Masters, 1st-4th, 10th, Doctorate, 5th-6th, Preschool.\n",
    "* education-num: no. of years a person studied - continuous.\n",
    "* marital-status: Married-civ-spouse, Divorced, Never-married, Separated, Widowed, Married-spouse-absent, Married-AF-spouse.\n",
    "* occupation: Tech-support, Craft-repair, Other-service, Sales, Exec-managerial, Prof-specialty, Handlers-cleaners, Machine-op-inspct, Adm-clerical, Farming-fishing, Transport-moving, Priv-house-serv, Protective-serv, Armed-Forces.\n",
    "* race: White, Asian-Pac-Islander, Amer-Indian-Eskimo, Other, Black.\n",
    "* sex: Female, Male.\n",
    "* capital-gain: Investment gain of the person other than salary - continuous\n",
    "* capital-loss: Loss from investments - continuous\n",
    "* hours-per-week: No. of hours a person works - continuous.\n",
    "* native-country: United-States, Cambodia, England, Puerto-Rico, Canada, Germany, Outlying-US(Guam-USVI-etc), India, Japan, Greece, South, China, Cuba, Iran, Honduras, Philippines, Italy, Poland, Jamaica, Vietnam, Mexico, Portugal, Ireland, France, Dominican-Republic, Laos, Ecuador, Taiwan, Haiti, Columbia, Hungary, Guatemala, Nicaragua, Scotland, Thailand, Yugoslavia, El-Salvador, Trinidad&Tobago, Peru, Hong, Holand-Netherlands.\n",
    "* salary: >50K, <=50K (dependent variable, the salary is in Dollars per year)"
   ]
  },
  {
   "cell_type": "markdown",
   "id": "cf81f2d1",
   "metadata": {
    "id": "ZzsW_RNeuNEx"
   },
   "source": [
    "### Loading Libraries"
   ]
  },
  {
   "cell_type": "code",
   "execution_count": 1,
   "id": "8446249c",
   "metadata": {},
   "outputs": [],
   "source": [
    "# this will help in making the Python code more structured automatically (good coding practice)\n",
    "#%load_ext nb_black\n",
    "#%matplotlib inline\n",
    "\n",
    "import pandas as pd\n",
    "import numpy as np\n",
    "\n",
    "import warnings\n",
    "\n",
    "warnings.filterwarnings(\"ignore\")\n",
    "from statsmodels.tools.sm_exceptions import ConvergenceWarning\n",
    "\n",
    "warnings.simplefilter(\"ignore\", ConvergenceWarning)\n",
    "\n",
    "from sklearn.model_selection import train_test_split\n",
    "\n",
    "import matplotlib.pyplot as plt\n",
    "import seaborn as sns\n",
    "\n",
    "# Removes the limit for the number of displayed columns\n",
    "pd.set_option(\"display.max_columns\", None)\n",
    "# Sets the limit for the number of displayed rows\n",
    "pd.set_option(\"display.max_rows\", 200)\n",
    "\n",
    "\n",
    "# To build model for prediction\n",
    "import statsmodels.stats.api as sms\n",
    "from statsmodels.stats.outliers_influence import variance_inflation_factor\n",
    "import statsmodels.api as sm\n",
    "from statsmodels.tools.tools import add_constant\n",
    "from sklearn.linear_model import LogisticRegression\n",
    "\n",
    "\n",
    "# To get diferent metric scores\n",
    "from sklearn.metrics import (\n",
    "    f1_score,\n",
    "    accuracy_score,\n",
    "    recall_score,\n",
    "    precision_score,\n",
    "    confusion_matrix,\n",
    "    roc_auc_score,\n",
    "    plot_confusion_matrix,\n",
    "    precision_recall_curve,\n",
    "    roc_curve,\n",
    ")"
   ]
  },
  {
   "cell_type": "markdown",
   "id": "5bc7fdbb",
   "metadata": {
    "id": "sAccTEIqj9VV"
   },
   "source": [
    "### Load data"
   ]
  },
  {
   "cell_type": "code",
   "execution_count": 2,
   "id": "05bdef45",
   "metadata": {
    "id": "STzpWgWu9WJZ"
   },
   "outputs": [],
   "source": [
    "data = pd.read_csv(\"adult_census_data.csv\")"
   ]
  },
  {
   "cell_type": "code",
   "execution_count": 3,
   "id": "213679bc",
   "metadata": {
    "colab": {
     "base_uri": "https://localhost:8080/",
     "height": 306
    },
    "id": "frKZJfik9WJc",
    "outputId": "80196792-f0f7-4482-d9be-ba731e441e23"
   },
   "outputs": [
    {
     "data": {
      "text/html": [
       "<div>\n",
       "<style scoped>\n",
       "    .dataframe tbody tr th:only-of-type {\n",
       "        vertical-align: middle;\n",
       "    }\n",
       "\n",
       "    .dataframe tbody tr th {\n",
       "        vertical-align: top;\n",
       "    }\n",
       "\n",
       "    .dataframe thead th {\n",
       "        text-align: right;\n",
       "    }\n",
       "</style>\n",
       "<table border=\"1\" class=\"dataframe\">\n",
       "  <thead>\n",
       "    <tr style=\"text-align: right;\">\n",
       "      <th></th>\n",
       "      <th>age</th>\n",
       "      <th>workclass</th>\n",
       "      <th>fnlwgt</th>\n",
       "      <th>education</th>\n",
       "      <th>education-no. of years</th>\n",
       "      <th>marital status</th>\n",
       "      <th>occupation</th>\n",
       "      <th>race</th>\n",
       "      <th>sex</th>\n",
       "      <th>capital gain</th>\n",
       "      <th>capital loss</th>\n",
       "      <th>working hours per week</th>\n",
       "      <th>native-country</th>\n",
       "      <th>salary</th>\n",
       "    </tr>\n",
       "  </thead>\n",
       "  <tbody>\n",
       "    <tr>\n",
       "      <th>0</th>\n",
       "      <td>39</td>\n",
       "      <td>State-gov</td>\n",
       "      <td>77516</td>\n",
       "      <td>Bachelors</td>\n",
       "      <td>13</td>\n",
       "      <td>Never-married</td>\n",
       "      <td>Adm-clerical</td>\n",
       "      <td>White</td>\n",
       "      <td>Male</td>\n",
       "      <td>2174</td>\n",
       "      <td>0</td>\n",
       "      <td>40</td>\n",
       "      <td>United-States</td>\n",
       "      <td>&lt;=50K</td>\n",
       "    </tr>\n",
       "    <tr>\n",
       "      <th>1</th>\n",
       "      <td>50</td>\n",
       "      <td>Self-emp-not-inc</td>\n",
       "      <td>83311</td>\n",
       "      <td>Bachelors</td>\n",
       "      <td>13</td>\n",
       "      <td>Married-civ-spouse</td>\n",
       "      <td>Exec-managerial</td>\n",
       "      <td>White</td>\n",
       "      <td>Male</td>\n",
       "      <td>0</td>\n",
       "      <td>0</td>\n",
       "      <td>13</td>\n",
       "      <td>United-States</td>\n",
       "      <td>&lt;=50K</td>\n",
       "    </tr>\n",
       "    <tr>\n",
       "      <th>2</th>\n",
       "      <td>38</td>\n",
       "      <td>Private</td>\n",
       "      <td>215646</td>\n",
       "      <td>HS-grad</td>\n",
       "      <td>9</td>\n",
       "      <td>Divorced</td>\n",
       "      <td>Handlers-cleaners</td>\n",
       "      <td>White</td>\n",
       "      <td>Male</td>\n",
       "      <td>0</td>\n",
       "      <td>0</td>\n",
       "      <td>40</td>\n",
       "      <td>United-States</td>\n",
       "      <td>&lt;=50K</td>\n",
       "    </tr>\n",
       "    <tr>\n",
       "      <th>3</th>\n",
       "      <td>53</td>\n",
       "      <td>Private</td>\n",
       "      <td>234721</td>\n",
       "      <td>11th</td>\n",
       "      <td>7</td>\n",
       "      <td>Married-civ-spouse</td>\n",
       "      <td>Handlers-cleaners</td>\n",
       "      <td>Black</td>\n",
       "      <td>Male</td>\n",
       "      <td>0</td>\n",
       "      <td>0</td>\n",
       "      <td>40</td>\n",
       "      <td>United-States</td>\n",
       "      <td>&lt;=50K</td>\n",
       "    </tr>\n",
       "    <tr>\n",
       "      <th>4</th>\n",
       "      <td>28</td>\n",
       "      <td>Private</td>\n",
       "      <td>338409</td>\n",
       "      <td>Bachelors</td>\n",
       "      <td>13</td>\n",
       "      <td>Married-civ-spouse</td>\n",
       "      <td>Prof-specialty</td>\n",
       "      <td>Black</td>\n",
       "      <td>Female</td>\n",
       "      <td>0</td>\n",
       "      <td>0</td>\n",
       "      <td>40</td>\n",
       "      <td>Cuba</td>\n",
       "      <td>&lt;=50K</td>\n",
       "    </tr>\n",
       "  </tbody>\n",
       "</table>\n",
       "</div>"
      ],
      "text/plain": [
       "   age          workclass  fnlwgt   education  education-no. of years  \\\n",
       "0   39          State-gov   77516   Bachelors                      13   \n",
       "1   50   Self-emp-not-inc   83311   Bachelors                      13   \n",
       "2   38            Private  215646     HS-grad                       9   \n",
       "3   53            Private  234721        11th                       7   \n",
       "4   28            Private  338409   Bachelors                      13   \n",
       "\n",
       "        marital status          occupation    race      sex  capital gain  \\\n",
       "0        Never-married        Adm-clerical   White     Male          2174   \n",
       "1   Married-civ-spouse     Exec-managerial   White     Male             0   \n",
       "2             Divorced   Handlers-cleaners   White     Male             0   \n",
       "3   Married-civ-spouse   Handlers-cleaners   Black     Male             0   \n",
       "4   Married-civ-spouse      Prof-specialty   Black   Female             0   \n",
       "\n",
       "   capital loss  working hours per week  native-country  salary  \n",
       "0             0                      40   United-States   <=50K  \n",
       "1             0                      13   United-States   <=50K  \n",
       "2             0                      40   United-States   <=50K  \n",
       "3             0                      40   United-States   <=50K  \n",
       "4             0                      40            Cuba   <=50K  "
      ]
     },
     "execution_count": 3,
     "metadata": {},
     "output_type": "execute_result"
    }
   ],
   "source": [
    "data.head()"
   ]
  },
  {
   "cell_type": "code",
   "execution_count": 4,
   "id": "92b5b81a",
   "metadata": {},
   "outputs": [
    {
     "data": {
      "text/html": [
       "<div>\n",
       "<style scoped>\n",
       "    .dataframe tbody tr th:only-of-type {\n",
       "        vertical-align: middle;\n",
       "    }\n",
       "\n",
       "    .dataframe tbody tr th {\n",
       "        vertical-align: top;\n",
       "    }\n",
       "\n",
       "    .dataframe thead th {\n",
       "        text-align: right;\n",
       "    }\n",
       "</style>\n",
       "<table border=\"1\" class=\"dataframe\">\n",
       "  <thead>\n",
       "    <tr style=\"text-align: right;\">\n",
       "      <th></th>\n",
       "      <th>age</th>\n",
       "      <th>workclass</th>\n",
       "      <th>fnlwgt</th>\n",
       "      <th>education</th>\n",
       "      <th>education-no. of years</th>\n",
       "      <th>marital status</th>\n",
       "      <th>occupation</th>\n",
       "      <th>race</th>\n",
       "      <th>sex</th>\n",
       "      <th>capital gain</th>\n",
       "      <th>capital loss</th>\n",
       "      <th>working hours per week</th>\n",
       "      <th>native-country</th>\n",
       "      <th>salary</th>\n",
       "    </tr>\n",
       "  </thead>\n",
       "  <tbody>\n",
       "    <tr>\n",
       "      <th>32556</th>\n",
       "      <td>27</td>\n",
       "      <td>Private</td>\n",
       "      <td>257302</td>\n",
       "      <td>Assoc-acdm</td>\n",
       "      <td>12</td>\n",
       "      <td>Married-civ-spouse</td>\n",
       "      <td>Tech-support</td>\n",
       "      <td>White</td>\n",
       "      <td>Female</td>\n",
       "      <td>0</td>\n",
       "      <td>0</td>\n",
       "      <td>38</td>\n",
       "      <td>United-States</td>\n",
       "      <td>&lt;=50K</td>\n",
       "    </tr>\n",
       "    <tr>\n",
       "      <th>32557</th>\n",
       "      <td>40</td>\n",
       "      <td>Private</td>\n",
       "      <td>154374</td>\n",
       "      <td>HS-grad</td>\n",
       "      <td>9</td>\n",
       "      <td>Married-civ-spouse</td>\n",
       "      <td>Machine-op-inspct</td>\n",
       "      <td>White</td>\n",
       "      <td>Male</td>\n",
       "      <td>0</td>\n",
       "      <td>0</td>\n",
       "      <td>40</td>\n",
       "      <td>United-States</td>\n",
       "      <td>&gt;50K</td>\n",
       "    </tr>\n",
       "    <tr>\n",
       "      <th>32558</th>\n",
       "      <td>58</td>\n",
       "      <td>Private</td>\n",
       "      <td>151910</td>\n",
       "      <td>HS-grad</td>\n",
       "      <td>9</td>\n",
       "      <td>Widowed</td>\n",
       "      <td>Adm-clerical</td>\n",
       "      <td>White</td>\n",
       "      <td>Female</td>\n",
       "      <td>0</td>\n",
       "      <td>0</td>\n",
       "      <td>40</td>\n",
       "      <td>United-States</td>\n",
       "      <td>&lt;=50K</td>\n",
       "    </tr>\n",
       "    <tr>\n",
       "      <th>32559</th>\n",
       "      <td>22</td>\n",
       "      <td>Private</td>\n",
       "      <td>201490</td>\n",
       "      <td>HS-grad</td>\n",
       "      <td>9</td>\n",
       "      <td>Never-married</td>\n",
       "      <td>Adm-clerical</td>\n",
       "      <td>White</td>\n",
       "      <td>Male</td>\n",
       "      <td>0</td>\n",
       "      <td>0</td>\n",
       "      <td>20</td>\n",
       "      <td>United-States</td>\n",
       "      <td>&lt;=50K</td>\n",
       "    </tr>\n",
       "    <tr>\n",
       "      <th>32560</th>\n",
       "      <td>52</td>\n",
       "      <td>Self-emp-inc</td>\n",
       "      <td>287927</td>\n",
       "      <td>HS-grad</td>\n",
       "      <td>9</td>\n",
       "      <td>Married-civ-spouse</td>\n",
       "      <td>Exec-managerial</td>\n",
       "      <td>White</td>\n",
       "      <td>Female</td>\n",
       "      <td>15024</td>\n",
       "      <td>0</td>\n",
       "      <td>40</td>\n",
       "      <td>United-States</td>\n",
       "      <td>&gt;50K</td>\n",
       "    </tr>\n",
       "  </tbody>\n",
       "</table>\n",
       "</div>"
      ],
      "text/plain": [
       "       age      workclass  fnlwgt    education  education-no. of years  \\\n",
       "32556   27        Private  257302   Assoc-acdm                      12   \n",
       "32557   40        Private  154374      HS-grad                       9   \n",
       "32558   58        Private  151910      HS-grad                       9   \n",
       "32559   22        Private  201490      HS-grad                       9   \n",
       "32560   52   Self-emp-inc  287927      HS-grad                       9   \n",
       "\n",
       "            marital status          occupation    race      sex  capital gain  \\\n",
       "32556   Married-civ-spouse        Tech-support   White   Female             0   \n",
       "32557   Married-civ-spouse   Machine-op-inspct   White     Male             0   \n",
       "32558              Widowed        Adm-clerical   White   Female             0   \n",
       "32559        Never-married        Adm-clerical   White     Male             0   \n",
       "32560   Married-civ-spouse     Exec-managerial   White   Female         15024   \n",
       "\n",
       "       capital loss  working hours per week  native-country  salary  \n",
       "32556             0                      38   United-States   <=50K  \n",
       "32557             0                      40   United-States    >50K  \n",
       "32558             0                      40   United-States   <=50K  \n",
       "32559             0                      20   United-States   <=50K  \n",
       "32560             0                      40   United-States    >50K  "
      ]
     },
     "execution_count": 4,
     "metadata": {},
     "output_type": "execute_result"
    }
   ],
   "source": [
    "data.tail()"
   ]
  },
  {
   "cell_type": "code",
   "execution_count": 5,
   "id": "81d9a40a",
   "metadata": {},
   "outputs": [
    {
     "data": {
      "text/plain": [
       "(32561, 14)"
      ]
     },
     "execution_count": 5,
     "metadata": {},
     "output_type": "execute_result"
    }
   ],
   "source": [
    "data.shape"
   ]
  },
  {
   "cell_type": "code",
   "execution_count": 6,
   "id": "5edc473c",
   "metadata": {
    "colab": {
     "base_uri": "https://localhost:8080/"
    },
    "id": "UXqzxZrw9WJg",
    "outputId": "4d1e0b70-4911-4e63-d263-6168fa386b65"
   },
   "outputs": [
    {
     "name": "stdout",
     "output_type": "stream",
     "text": [
      "<class 'pandas.core.frame.DataFrame'>\n",
      "RangeIndex: 32561 entries, 0 to 32560\n",
      "Data columns (total 14 columns):\n",
      " #   Column                  Non-Null Count  Dtype \n",
      "---  ------                  --------------  ----- \n",
      " 0   age                     32561 non-null  int64 \n",
      " 1   workclass               32561 non-null  object\n",
      " 2   fnlwgt                  32561 non-null  int64 \n",
      " 3   education               32561 non-null  object\n",
      " 4   education-no. of years  32561 non-null  int64 \n",
      " 5   marital status          32561 non-null  object\n",
      " 6   occupation              32561 non-null  object\n",
      " 7   race                    32561 non-null  object\n",
      " 8   sex                     32561 non-null  object\n",
      " 9   capital gain            32561 non-null  int64 \n",
      " 10  capital loss            32561 non-null  int64 \n",
      " 11  working hours per week  32561 non-null  int64 \n",
      " 12  native-country          32561 non-null  object\n",
      " 13  salary                  32561 non-null  object\n",
      "dtypes: int64(6), object(8)\n",
      "memory usage: 3.5+ MB\n"
     ]
    }
   ],
   "source": [
    "data.info()"
   ]
  },
  {
   "cell_type": "code",
   "execution_count": 7,
   "id": "12df66a7",
   "metadata": {
    "id": "BMXZrEVsuZcc"
   },
   "outputs": [],
   "source": [
    "# fixing the names of columns as there are dots, spaces  in columns names\n",
    "data.columns = [col.replace(\" \", \"_\") for col in data.columns]\n",
    "data.columns = [col.replace(\"-\", \"_\") for col in data.columns]\n",
    "data.columns = [col.replace(\".\", \"\") for col in data.columns]"
   ]
  },
  {
   "cell_type": "code",
   "execution_count": 8,
   "id": "1c5384cd",
   "metadata": {
    "colab": {
     "base_uri": "https://localhost:8080/"
    },
    "id": "3BUEfwoqudEU",
    "outputId": "4f861321-21f4-4fac-f144-1a3486e49f1f"
   },
   "outputs": [
    {
     "name": "stdout",
     "output_type": "stream",
     "text": [
      "Index(['age', 'workclass', 'fnlwgt', 'education', 'education_no_of_years',\n",
      "       'marital_status', 'occupation', 'race', 'sex', 'capital_gain',\n",
      "       'capital_loss', 'working_hours_per_week', 'native_country', 'salary'],\n",
      "      dtype='object')\n"
     ]
    }
   ],
   "source": [
    "print(data.columns)"
   ]
  },
  {
   "cell_type": "code",
   "execution_count": 9,
   "id": "1a735455",
   "metadata": {
    "colab": {
     "base_uri": "https://localhost:8080/",
     "height": 427
    },
    "id": "zWfoZeXv9WJm",
    "outputId": "a775bf9f-9a96-476d-889d-1ae4c5c616fe"
   },
   "outputs": [
    {
     "data": {
      "text/html": [
       "<div>\n",
       "<style scoped>\n",
       "    .dataframe tbody tr th:only-of-type {\n",
       "        vertical-align: middle;\n",
       "    }\n",
       "\n",
       "    .dataframe tbody tr th {\n",
       "        vertical-align: top;\n",
       "    }\n",
       "\n",
       "    .dataframe thead th {\n",
       "        text-align: right;\n",
       "    }\n",
       "</style>\n",
       "<table border=\"1\" class=\"dataframe\">\n",
       "  <thead>\n",
       "    <tr style=\"text-align: right;\">\n",
       "      <th></th>\n",
       "      <th>count</th>\n",
       "      <th>mean</th>\n",
       "      <th>std</th>\n",
       "      <th>min</th>\n",
       "      <th>25%</th>\n",
       "      <th>50%</th>\n",
       "      <th>75%</th>\n",
       "      <th>max</th>\n",
       "    </tr>\n",
       "  </thead>\n",
       "  <tbody>\n",
       "    <tr>\n",
       "      <th>age</th>\n",
       "      <td>32561.0</td>\n",
       "      <td>38.581647</td>\n",
       "      <td>13.640433</td>\n",
       "      <td>17.0</td>\n",
       "      <td>28.0</td>\n",
       "      <td>37.0</td>\n",
       "      <td>48.0</td>\n",
       "      <td>90.0</td>\n",
       "    </tr>\n",
       "    <tr>\n",
       "      <th>fnlwgt</th>\n",
       "      <td>32561.0</td>\n",
       "      <td>189778.366512</td>\n",
       "      <td>105549.977697</td>\n",
       "      <td>12285.0</td>\n",
       "      <td>117827.0</td>\n",
       "      <td>178356.0</td>\n",
       "      <td>237051.0</td>\n",
       "      <td>1484705.0</td>\n",
       "    </tr>\n",
       "    <tr>\n",
       "      <th>education_no_of_years</th>\n",
       "      <td>32561.0</td>\n",
       "      <td>10.080679</td>\n",
       "      <td>2.572720</td>\n",
       "      <td>1.0</td>\n",
       "      <td>9.0</td>\n",
       "      <td>10.0</td>\n",
       "      <td>12.0</td>\n",
       "      <td>16.0</td>\n",
       "    </tr>\n",
       "    <tr>\n",
       "      <th>capital_gain</th>\n",
       "      <td>32561.0</td>\n",
       "      <td>1077.648844</td>\n",
       "      <td>7385.292085</td>\n",
       "      <td>0.0</td>\n",
       "      <td>0.0</td>\n",
       "      <td>0.0</td>\n",
       "      <td>0.0</td>\n",
       "      <td>99999.0</td>\n",
       "    </tr>\n",
       "    <tr>\n",
       "      <th>capital_loss</th>\n",
       "      <td>32561.0</td>\n",
       "      <td>87.303830</td>\n",
       "      <td>402.960219</td>\n",
       "      <td>0.0</td>\n",
       "      <td>0.0</td>\n",
       "      <td>0.0</td>\n",
       "      <td>0.0</td>\n",
       "      <td>4356.0</td>\n",
       "    </tr>\n",
       "    <tr>\n",
       "      <th>working_hours_per_week</th>\n",
       "      <td>32561.0</td>\n",
       "      <td>40.437456</td>\n",
       "      <td>12.347429</td>\n",
       "      <td>1.0</td>\n",
       "      <td>40.0</td>\n",
       "      <td>40.0</td>\n",
       "      <td>45.0</td>\n",
       "      <td>99.0</td>\n",
       "    </tr>\n",
       "  </tbody>\n",
       "</table>\n",
       "</div>"
      ],
      "text/plain": [
       "                          count           mean            std      min  \\\n",
       "age                     32561.0      38.581647      13.640433     17.0   \n",
       "fnlwgt                  32561.0  189778.366512  105549.977697  12285.0   \n",
       "education_no_of_years   32561.0      10.080679       2.572720      1.0   \n",
       "capital_gain            32561.0    1077.648844    7385.292085      0.0   \n",
       "capital_loss            32561.0      87.303830     402.960219      0.0   \n",
       "working_hours_per_week  32561.0      40.437456      12.347429      1.0   \n",
       "\n",
       "                             25%       50%       75%        max  \n",
       "age                         28.0      37.0      48.0       90.0  \n",
       "fnlwgt                  117827.0  178356.0  237051.0  1484705.0  \n",
       "education_no_of_years        9.0      10.0      12.0       16.0  \n",
       "capital_gain                 0.0       0.0       0.0    99999.0  \n",
       "capital_loss                 0.0       0.0       0.0     4356.0  \n",
       "working_hours_per_week      40.0      40.0      45.0       99.0  "
      ]
     },
     "execution_count": 9,
     "metadata": {},
     "output_type": "execute_result"
    }
   ],
   "source": [
    "data.describe().T"
   ]
  },
  {
   "cell_type": "code",
   "execution_count": 10,
   "id": "9be7833c",
   "metadata": {},
   "outputs": [
    {
     "data": {
      "text/plain": [
       "Index(['workclass', 'education', 'marital_status', 'occupation', 'race', 'sex',\n",
       "       'native_country', 'salary'],\n",
       "      dtype='object')"
      ]
     },
     "execution_count": 10,
     "metadata": {},
     "output_type": "execute_result"
    }
   ],
   "source": [
    "# filtering object type columns\n",
    "cat_columns = data.describe(include=[\"object\"]).columns\n",
    "cat_columns"
   ]
  },
  {
   "cell_type": "code",
   "execution_count": 11,
   "id": "d9db8f04",
   "metadata": {},
   "outputs": [
    {
     "data": {
      "text/plain": [
       " Private             22696\n",
       " Self-emp-not-inc     2541\n",
       " Local-gov            2093\n",
       " ?                    1836\n",
       " State-gov            1298\n",
       " Self-emp-inc         1116\n",
       " Federal-gov           960\n",
       " Without-pay            14\n",
       " Never-worked            7\n",
       "Name: workclass, dtype: int64"
      ]
     },
     "execution_count": 11,
     "metadata": {},
     "output_type": "execute_result"
    }
   ],
   "source": [
    "data[\"workclass\"].value_counts()"
   ]
  },
  {
   "cell_type": "code",
   "execution_count": 12,
   "id": "4b2c7fcc",
   "metadata": {
    "id": "d-SZuewJ9WJ-"
   },
   "outputs": [],
   "source": [
    "# replace ? with 'Unknown'\n",
    "data.workclass = data.workclass.apply(lambda x: \"Unknown\" if x == \" ?\" else x)\n",
    "data.native_country = data.native_country.apply(lambda x: \"Unknown\" if x == \" ?\" else x)\n",
    "data.occupation = data.occupation.apply(lambda x: \"Unknown\" if x == \" ?\" else x)"
   ]
  },
  {
   "cell_type": "code",
   "execution_count": 13,
   "id": "eea6395d",
   "metadata": {},
   "outputs": [
    {
     "data": {
      "text/plain": [
       "42"
      ]
     },
     "execution_count": 13,
     "metadata": {},
     "output_type": "execute_result"
    }
   ],
   "source": [
    "# unique number of countries\n",
    "data.native_country.nunique()"
   ]
  },
  {
   "cell_type": "code",
   "execution_count": 14,
   "id": "cd95a5ca",
   "metadata": {
    "id": "JWuabviJ9WKD"
   },
   "outputs": [],
   "source": [
    "data.native_country = data.native_country.str.replace(\" \", \"\")"
   ]
  },
  {
   "cell_type": "code",
   "execution_count": 15,
   "id": "9ac56500",
   "metadata": {
    "id": "RaVHYsJd9WKF"
   },
   "outputs": [],
   "source": [
    "north_america = [\n",
    "    \"Canada\",\n",
    "    \"Cuba\",\n",
    "    \"Dominican-Republic\",\n",
    "    \"El-Salvador\",\n",
    "    \"Guatemala\",\n",
    "    \"Haiti\",\n",
    "    \"Honduras\",\n",
    "    \"Jamaica\",\n",
    "    \"Mexico\",\n",
    "    \"Nicaragua\",\n",
    "    \"Outlying-US(Guam-USVI-etc)\",\n",
    "    \"Puerto-Rico\",\n",
    "    \"Trinadad&Tobago\",\n",
    "    \"United-States\",\n",
    "]\n",
    "asia = [\n",
    "    \"Cambodia\",\n",
    "    \"China\",\n",
    "    \"Hong\",\n",
    "    \"India\",\n",
    "    \"Iran\",\n",
    "    \"Japan\",\n",
    "    \"Laos\",\n",
    "    \"Philippines\",\n",
    "    \"Taiwan\",\n",
    "    \"Thailand\",\n",
    "    \"Vietnam\",\n",
    "]\n",
    "south_america = [\"Columbia\", \"Ecuador\", \"Peru\"]\n",
    "europe = [\n",
    "    \"England\",\n",
    "    \"France\",\n",
    "    \"Germany\",\n",
    "    \"Greece\",\n",
    "    \"Holand-Netherlands\",\n",
    "    \"Hungary\",\n",
    "    \"Ireland\",\n",
    "    \"Italy\",\n",
    "    \"Poland\",\n",
    "    \"Portugal\",\n",
    "    \"Scotland\",\n",
    "    \"Yugoslavia\",\n",
    "]\n",
    "other = [\"South\", \"Unknown\", \"?\"]"
   ]
  },
  {
   "cell_type": "code",
   "execution_count": 16,
   "id": "49a165c2",
   "metadata": {
    "id": "ICxgTn2t9WKH"
   },
   "outputs": [],
   "source": [
    "def region_combining(x):\n",
    "    if x in north_america:\n",
    "        return \"north_america\"\n",
    "    elif x in asia:\n",
    "        return \"asia\"\n",
    "    elif x in south_america:\n",
    "        return \"south_america\"\n",
    "    elif x in europe:\n",
    "        return \"europe\"\n",
    "    elif x in other:\n",
    "        return \"other\"\n",
    "    else:\n",
    "        return x"
   ]
  },
  {
   "cell_type": "code",
   "execution_count": 17,
   "id": "82b27cae",
   "metadata": {
    "id": "NnJUQlYm9WKM"
   },
   "outputs": [],
   "source": [
    "data[\"native_country\"] = data[\"native_country\"].apply(region_combining)"
   ]
  },
  {
   "cell_type": "code",
   "execution_count": 18,
   "id": "d73e7d2a",
   "metadata": {},
   "outputs": [
    {
     "name": "stdout",
     "output_type": "stream",
     "text": [
      "Distinct values in Native Country column: 5\n"
     ]
    }
   ],
   "source": [
    "print(\"Distinct values in Native Country column:\", data.native_country.nunique())"
   ]
  },
  {
   "cell_type": "code",
   "execution_count": 19,
   "id": "983b2791",
   "metadata": {},
   "outputs": [
    {
     "data": {
      "text/plain": [
       "array([' Never-married', ' Married-civ-spouse', ' Divorced',\n",
       "       ' Married-spouse-absent', ' Separated', ' Married-AF-spouse',\n",
       "       ' Widowed'], dtype=object)"
      ]
     },
     "execution_count": 19,
     "metadata": {},
     "output_type": "execute_result"
    }
   ],
   "source": [
    "data.marital_status.unique()"
   ]
  },
  {
   "cell_type": "markdown",
   "id": "c78323d5",
   "metadata": {},
   "source": [
    "We can reduce these values into the following groups:\n",
    "* Married\n",
    "* Not-Married\n",
    "* Never-Married"
   ]
  },
  {
   "cell_type": "code",
   "execution_count": 20,
   "id": "8c14d683",
   "metadata": {
    "id": "8dnUp7zb9WKO"
   },
   "outputs": [],
   "source": [
    "data.marital_status = data.marital_status.str.replace(\" \", \"\")\n",
    "\n",
    "married = [\"Married-civ-spouse\", \"Married-AF-spouse\"]\n",
    "not_married = [\"Divorced\", \"Separated\", \"Widowed\", \"Married-spouse-absent\"]\n",
    "\n",
    "\n",
    "def reduce_marital_status(x):\n",
    "    if x in married:\n",
    "        return \"married\"\n",
    "    elif x in not_married:\n",
    "        return \"not_married\"\n",
    "    else:\n",
    "        return x"
   ]
  },
  {
   "cell_type": "code",
   "execution_count": 21,
   "id": "01ce086b",
   "metadata": {
    "id": "gYG1pieB9WKP"
   },
   "outputs": [],
   "source": [
    "data.marital_status = data.marital_status.apply(reduce_marital_status)"
   ]
  },
  {
   "cell_type": "code",
   "execution_count": 22,
   "id": "439c8710",
   "metadata": {
    "colab": {
     "base_uri": "https://localhost:8080/"
    },
    "id": "NDdrqItt9WKS",
    "outputId": "f760d042-5202-402a-9829-c07061fc6b9c"
   },
   "outputs": [
    {
     "data": {
      "text/plain": [
       "array(['Never-married', 'married', 'not_married'], dtype=object)"
      ]
     },
     "execution_count": 22,
     "metadata": {},
     "output_type": "execute_result"
    }
   ],
   "source": [
    "data.marital_status.unique()"
   ]
  },
  {
   "cell_type": "markdown",
   "id": "af07fcbb",
   "metadata": {
    "id": "L7Drz5w_9WKV"
   },
   "source": [
    "## Univariate Analysis"
   ]
  },
  {
   "cell_type": "markdown",
   "id": "9159c38f",
   "metadata": {
    "id": "dsoZ6CBQ9WKm"
   },
   "source": [
    "### Observations on hours_per_week"
   ]
  },
  {
   "cell_type": "code",
   "execution_count": 23,
   "id": "515e79d7",
   "metadata": {
    "colab": {
     "base_uri": "https://localhost:8080/",
     "height": 633
    },
    "id": "PhStxB749WKm",
    "outputId": "7d990ab7-0a70-45a4-e151-3d36d3db45ca"
   },
   "outputs": [
    {
     "data": {
      "image/png": "[encoded data removed]",
      "text/plain": [
       "<Figure size 1152x432 with 2 Axes>"
      ]
     },
     "metadata": {
      "needs_background": "light"
     },
     "output_type": "display_data"
    },
    {
     "data": {
      "application/javascript": [
       "\n",
       "            setTimeout(function() {\n",
       "                var nbb_cell_id = 23;\n",
       "                var nbb_unformatted_code = \"col = \\\"working_hours_per_week\\\"\\nplt.figure(figsize=(16, 6))\\nplt.subplot(2, 1, 1)\\nplt.title(\\\"----------   \\\" + col + \\\"   ----------\\\")\\nsns.boxplot(data=data, x=col, showmeans=True, color=\\\"violet\\\")\\nplt.subplot(2, 1, 2)\\nsns.histplot(data=data, x=col)\\nplt.axvline(data[col].mean(), color=\\\"red\\\", linestyle=\\\"-\\\")\\nplt.axvline(data[col].median(), color=\\\"green\\\", linestyle=\\\"--\\\")\\nplt.show()\";\n",
       "                var nbb_formatted_code = \"col = \\\"working_hours_per_week\\\"\\nplt.figure(figsize=(16, 6))\\nplt.subplot(2, 1, 1)\\nplt.title(\\\"----------   \\\" + col + \\\"   ----------\\\")\\nsns.boxplot(data=data, x=col, showmeans=True, color=\\\"violet\\\")\\nplt.subplot(2, 1, 2)\\nsns.histplot(data=data, x=col)\\nplt.axvline(data[col].mean(), color=\\\"red\\\", linestyle=\\\"-\\\")\\nplt.axvline(data[col].median(), color=\\\"green\\\", linestyle=\\\"--\\\")\\nplt.show()\";\n",
       "                var nbb_cells = Jupyter.notebook.get_cells();\n",
       "                for (var i = 0; i < nbb_cells.length; ++i) {\n",
       "                    if (nbb_cells[i].input_prompt_number == nbb_cell_id) {\n",
       "                        if (nbb_cells[i].get_text() == nbb_unformatted_code) {\n",
       "                             nbb_cells[i].set_text(nbb_formatted_code);\n",
       "                        }\n",
       "                        break;\n",
       "                    }\n",
       "                }\n",
       "            }, 500);\n",
       "            "
      ],
      "text/plain": [
       "<IPython.core.display.Javascript object>"
      ]
     },
     "metadata": {},
     "output_type": "display_data"
    }
   ],
   "source": [
    "col = \"working_hours_per_week\"\n",
    "plt.figure(figsize=(16, 6))\n",
    "plt.subplot(2, 1, 1)\n",
    "plt.title(\"----------   \" + col + \"   ----------\")\n",
    "sns.boxplot(data=data, x=col, showmeans=True, color=\"violet\")\n",
    "plt.subplot(2, 1, 2)\n",
    "sns.histplot(data=data, x=col)\n",
    "plt.axvline(data[col].mean(), color=\"red\", linestyle=\"-\")\n",
    "plt.axvline(data[col].median(), color=\"green\", linestyle=\"--\")\n",
    "plt.show()"
   ]
  },
  {
   "cell_type": "code",
   "execution_count": 24,
   "id": "d89c379d",
   "metadata": {},
   "outputs": [
    {
     "data": {
      "image/png": "[encoded data removed]",
      "text/plain": [
       "<Figure size 1152x432 with 1 Axes>"
      ]
     },
     "metadata": {
      "needs_background": "light"
     },
     "output_type": "display_data"
    },
    {
     "data": {
      "application/javascript": [
       "\n",
       "            setTimeout(function() {\n",
       "                var nbb_cell_id = 24;\n",
       "                var nbb_unformatted_code = \"plt.figure(figsize=(16, 6))\\nsns.countplot(data=data, x=\\\"workclass\\\")\\nplt.show()\";\n",
       "                var nbb_formatted_code = \"plt.figure(figsize=(16, 6))\\nsns.countplot(data=data, x=\\\"workclass\\\")\\nplt.show()\";\n",
       "                var nbb_cells = Jupyter.notebook.get_cells();\n",
       "                for (var i = 0; i < nbb_cells.length; ++i) {\n",
       "                    if (nbb_cells[i].input_prompt_number == nbb_cell_id) {\n",
       "                        if (nbb_cells[i].get_text() == nbb_unformatted_code) {\n",
       "                             nbb_cells[i].set_text(nbb_formatted_code);\n",
       "                        }\n",
       "                        break;\n",
       "                    }\n",
       "                }\n",
       "            }, 500);\n",
       "            "
      ],
      "text/plain": [
       "<IPython.core.display.Javascript object>"
      ]
     },
     "metadata": {},
     "output_type": "display_data"
    }
   ],
   "source": [
    "plt.figure(figsize=(16, 6))\n",
    "sns.countplot(data=data, x=\"workclass\")\n",
    "plt.show()"
   ]
  },
  {
   "cell_type": "code",
   "execution_count": 25,
   "id": "eb63d305",
   "metadata": {},
   "outputs": [
    {
     "data": {
      "image/png": "[encoded data removed]",
      "text/plain": [
       "<Figure size 432x288 with 1 Axes>"
      ]
     },
     "metadata": {
      "needs_background": "light"
     },
     "output_type": "display_data"
    },
    {
     "data": {
      "application/javascript": [
       "\n",
       "            setTimeout(function() {\n",
       "                var nbb_cell_id = 25;\n",
       "                var nbb_unformatted_code = \"sns.countplot(data=data, x=\\\"marital_status\\\")\\nplt.show()\";\n",
       "                var nbb_formatted_code = \"sns.countplot(data=data, x=\\\"marital_status\\\")\\nplt.show()\";\n",
       "                var nbb_cells = Jupyter.notebook.get_cells();\n",
       "                for (var i = 0; i < nbb_cells.length; ++i) {\n",
       "                    if (nbb_cells[i].input_prompt_number == nbb_cell_id) {\n",
       "                        if (nbb_cells[i].get_text() == nbb_unformatted_code) {\n",
       "                             nbb_cells[i].set_text(nbb_formatted_code);\n",
       "                        }\n",
       "                        break;\n",
       "                    }\n",
       "                }\n",
       "            }, 500);\n",
       "            "
      ],
      "text/plain": [
       "<IPython.core.display.Javascript object>"
      ]
     },
     "metadata": {},
     "output_type": "display_data"
    }
   ],
   "source": [
    "sns.countplot(data=data, x=\"marital_status\")\n",
    "plt.show()"
   ]
  },
  {
   "cell_type": "code",
   "execution_count": 26,
   "id": "0b2f1baa",
   "metadata": {},
   "outputs": [
    {
     "data": {
      "image/png": "[encoded data removed]",
      "text/plain": [
       "<Figure size 432x288 with 1 Axes>"
      ]
     },
     "metadata": {
      "needs_background": "light"
     },
     "output_type": "display_data"
    },
    {
     "data": {
      "application/javascript": [
       "\n",
       "            setTimeout(function() {\n",
       "                var nbb_cell_id = 26;\n",
       "                var nbb_unformatted_code = \"sns.countplot(data=data, x=\\\"native_country\\\")\\nplt.show()\";\n",
       "                var nbb_formatted_code = \"sns.countplot(data=data, x=\\\"native_country\\\")\\nplt.show()\";\n",
       "                var nbb_cells = Jupyter.notebook.get_cells();\n",
       "                for (var i = 0; i < nbb_cells.length; ++i) {\n",
       "                    if (nbb_cells[i].input_prompt_number == nbb_cell_id) {\n",
       "                        if (nbb_cells[i].get_text() == nbb_unformatted_code) {\n",
       "                             nbb_cells[i].set_text(nbb_formatted_code);\n",
       "                        }\n",
       "                        break;\n",
       "                    }\n",
       "                }\n",
       "            }, 500);\n",
       "            "
      ],
      "text/plain": [
       "<IPython.core.display.Javascript object>"
      ]
     },
     "metadata": {},
     "output_type": "display_data"
    }
   ],
   "source": [
    "sns.countplot(data=data, x=\"native_country\")\n",
    "plt.show()"
   ]
  },
  {
   "cell_type": "markdown",
   "id": "5715688b",
   "metadata": {
    "id": "O7aOYV_y9WKp"
   },
   "source": [
    "### Observations on salary"
   ]
  },
  {
   "cell_type": "code",
   "execution_count": 27,
   "id": "f4a4e2c8",
   "metadata": {},
   "outputs": [
    {
     "data": {
      "image/png": "[encoded data removed]",
      "text/plain": [
       "<Figure size 432x288 with 1 Axes>"
      ]
     },
     "metadata": {
      "needs_background": "light"
     },
     "output_type": "display_data"
    },
    {
     "data": {
      "application/javascript": [
       "\n",
       "            setTimeout(function() {\n",
       "                var nbb_cell_id = 27;\n",
       "                var nbb_unformatted_code = \"sns.countplot(data=data, x=\\\"salary\\\")\\nplt.show()\";\n",
       "                var nbb_formatted_code = \"sns.countplot(data=data, x=\\\"salary\\\")\\nplt.show()\";\n",
       "                var nbb_cells = Jupyter.notebook.get_cells();\n",
       "                for (var i = 0; i < nbb_cells.length; ++i) {\n",
       "                    if (nbb_cells[i].input_prompt_number == nbb_cell_id) {\n",
       "                        if (nbb_cells[i].get_text() == nbb_unformatted_code) {\n",
       "                             nbb_cells[i].set_text(nbb_formatted_code);\n",
       "                        }\n",
       "                        break;\n",
       "                    }\n",
       "                }\n",
       "            }, 500);\n",
       "            "
      ],
      "text/plain": [
       "<IPython.core.display.Javascript object>"
      ]
     },
     "metadata": {},
     "output_type": "display_data"
    }
   ],
   "source": [
    "sns.countplot(data=data, x=\"salary\")\n",
    "plt.show()"
   ]
  },
  {
   "cell_type": "markdown",
   "id": "af13abfa",
   "metadata": {
    "id": "3jS63iRW9WKs"
   },
   "source": [
    "## Bivariate analysis"
   ]
  },
  {
   "cell_type": "code",
   "execution_count": 28,
   "id": "ad474eab",
   "metadata": {},
   "outputs": [
    {
     "data": {
      "image/png": "[encoded data removed]",
      "text/plain": [
       "<Figure size 1080x504 with 2 Axes>"
      ]
     },
     "metadata": {
      "needs_background": "light"
     },
     "output_type": "display_data"
    },
    {
     "data": {
      "application/javascript": [
       "\n",
       "            setTimeout(function() {\n",
       "                var nbb_cell_id = 28;\n",
       "                var nbb_unformatted_code = \"plt.figure(figsize=(15, 7))\\nsns.heatmap(data.corr(), annot=True, vmin=-1, vmax=1, fmt=\\\".2f\\\", cmap=\\\"Spectral\\\")\\nplt.show()\";\n",
       "                var nbb_formatted_code = \"plt.figure(figsize=(15, 7))\\nsns.heatmap(data.corr(), annot=True, vmin=-1, vmax=1, fmt=\\\".2f\\\", cmap=\\\"Spectral\\\")\\nplt.show()\";\n",
       "                var nbb_cells = Jupyter.notebook.get_cells();\n",
       "                for (var i = 0; i < nbb_cells.length; ++i) {\n",
       "                    if (nbb_cells[i].input_prompt_number == nbb_cell_id) {\n",
       "                        if (nbb_cells[i].get_text() == nbb_unformatted_code) {\n",
       "                             nbb_cells[i].set_text(nbb_formatted_code);\n",
       "                        }\n",
       "                        break;\n",
       "                    }\n",
       "                }\n",
       "            }, 500);\n",
       "            "
      ],
      "text/plain": [
       "<IPython.core.display.Javascript object>"
      ]
     },
     "metadata": {},
     "output_type": "display_data"
    }
   ],
   "source": [
    "plt.figure(figsize=(15, 7))\n",
    "sns.heatmap(data.corr(), annot=True, vmin=-1, vmax=1, fmt=\".2f\", cmap=\"Spectral\")\n",
    "plt.show()"
   ]
  },
  {
   "cell_type": "code",
   "execution_count": 29,
   "id": "291a8073",
   "metadata": {},
   "outputs": [
    {
     "data": {
      "application/javascript": [
       "\n",
       "            setTimeout(function() {\n",
       "                var nbb_cell_id = 29;\n",
       "                var nbb_unformatted_code = \"### Function to plot stacked bar charts for categorical columns\\ndef stacked_plot(x):\\n    sns.set()\\n    ## crosstab\\n    tab1 = pd.crosstab(x, data[\\\"salary\\\"], margins=True).sort_values(\\n        by=\\\" >50K\\\", ascending=False\\n    )\\n    print(tab1)\\n    print(\\\"-\\\" * 120)\\n    ## visualising the cross tab\\n    tab = pd.crosstab(x, data[\\\"salary\\\"], normalize=\\\"index\\\").sort_values(\\n        by=\\\" >50K\\\", ascending=False\\n    )\\n    tab.plot(kind=\\\"bar\\\", stacked=True, figsize=(17, 7))\\n    plt.legend(\\n        loc=\\\"lower left\\\",\\n        frameon=False,\\n    )\\n    plt.legend(loc=\\\"upper left\\\", bbox_to_anchor=(1, 1))\\n    plt.show()\";\n",
       "                var nbb_formatted_code = \"### Function to plot stacked bar charts for categorical columns\\ndef stacked_plot(x):\\n    sns.set()\\n    ## crosstab\\n    tab1 = pd.crosstab(x, data[\\\"salary\\\"], margins=True).sort_values(\\n        by=\\\" >50K\\\", ascending=False\\n    )\\n    print(tab1)\\n    print(\\\"-\\\" * 120)\\n    ## visualising the cross tab\\n    tab = pd.crosstab(x, data[\\\"salary\\\"], normalize=\\\"index\\\").sort_values(\\n        by=\\\" >50K\\\", ascending=False\\n    )\\n    tab.plot(kind=\\\"bar\\\", stacked=True, figsize=(17, 7))\\n    plt.legend(\\n        loc=\\\"lower left\\\",\\n        frameon=False,\\n    )\\n    plt.legend(loc=\\\"upper left\\\", bbox_to_anchor=(1, 1))\\n    plt.show()\";\n",
       "                var nbb_cells = Jupyter.notebook.get_cells();\n",
       "                for (var i = 0; i < nbb_cells.length; ++i) {\n",
       "                    if (nbb_cells[i].input_prompt_number == nbb_cell_id) {\n",
       "                        if (nbb_cells[i].get_text() == nbb_unformatted_code) {\n",
       "                             nbb_cells[i].set_text(nbb_formatted_code);\n",
       "                        }\n",
       "                        break;\n",
       "                    }\n",
       "                }\n",
       "            }, 500);\n",
       "            "
      ],
      "text/plain": [
       "<IPython.core.display.Javascript object>"
      ]
     },
     "metadata": {},
     "output_type": "display_data"
    }
   ],
   "source": [
    "### Function to plot stacked bar charts for categorical columns\n",
    "def stacked_plot(x):\n",
    "    sns.set()\n",
    "    ## crosstab\n",
    "    tab1 = pd.crosstab(x, data[\"salary\"], margins=True).sort_values(\n",
    "        by=\" >50K\", ascending=False\n",
    "    )\n",
    "    print(tab1)\n",
    "    print(\"-\" * 120)\n",
    "    ## visualising the cross tab\n",
    "    tab = pd.crosstab(x, data[\"salary\"], normalize=\"index\").sort_values(\n",
    "        by=\" >50K\", ascending=False\n",
    "    )\n",
    "    tab.plot(kind=\"bar\", stacked=True, figsize=(17, 7))\n",
    "    plt.legend(\n",
    "        loc=\"lower left\",\n",
    "        frameon=False,\n",
    "    )\n",
    "    plt.legend(loc=\"upper left\", bbox_to_anchor=(1, 1))\n",
    "    plt.show()"
   ]
  },
  {
   "cell_type": "code",
   "execution_count": 30,
   "id": "9ca5c68e",
   "metadata": {},
   "outputs": [
    {
     "data": {
      "application/javascript": [
       "\n",
       "            setTimeout(function() {\n",
       "                var nbb_cell_id = 30;\n",
       "                var nbb_unformatted_code = \"def stacked_barplot(data, predictor, target):\\n    \\\"\\\"\\\"\\n    Print the category counts and plot a stacked bar chart\\n\\n    data: dataframe\\n    predictor: independent variable\\n    target: target variable\\n    \\\"\\\"\\\"\\n    count = data[predictor].nunique()\\n    sorter = data[target].value_counts().index[-1]\\n    tab = pd.crosstab(data[predictor], data[target], normalize=\\\"index\\\").sort_values(\\n        by=sorter, ascending=False\\n    )\\n    tab.plot(kind=\\\"bar\\\", stacked=True, figsize=(count + 5, 5))\\n    plt.legend(\\n        loc=\\\"lower left\\\",\\n        frameon=False,\\n    )\\n    plt.legend(loc=\\\"upper left\\\", bbox_to_anchor=(1, 1))\\n    plt.show()\";\n",
       "                var nbb_formatted_code = \"def stacked_barplot(data, predictor, target):\\n    \\\"\\\"\\\"\\n    Print the category counts and plot a stacked bar chart\\n\\n    data: dataframe\\n    predictor: independent variable\\n    target: target variable\\n    \\\"\\\"\\\"\\n    count = data[predictor].nunique()\\n    sorter = data[target].value_counts().index[-1]\\n    tab = pd.crosstab(data[predictor], data[target], normalize=\\\"index\\\").sort_values(\\n        by=sorter, ascending=False\\n    )\\n    tab.plot(kind=\\\"bar\\\", stacked=True, figsize=(count + 5, 5))\\n    plt.legend(\\n        loc=\\\"lower left\\\",\\n        frameon=False,\\n    )\\n    plt.legend(loc=\\\"upper left\\\", bbox_to_anchor=(1, 1))\\n    plt.show()\";\n",
       "                var nbb_cells = Jupyter.notebook.get_cells();\n",
       "                for (var i = 0; i < nbb_cells.length; ++i) {\n",
       "                    if (nbb_cells[i].input_prompt_number == nbb_cell_id) {\n",
       "                        if (nbb_cells[i].get_text() == nbb_unformatted_code) {\n",
       "                             nbb_cells[i].set_text(nbb_formatted_code);\n",
       "                        }\n",
       "                        break;\n",
       "                    }\n",
       "                }\n",
       "            }, 500);\n",
       "            "
      ],
      "text/plain": [
       "<IPython.core.display.Javascript object>"
      ]
     },
     "metadata": {},
     "output_type": "display_data"
    }
   ],
   "source": [
    "def stacked_barplot(data, predictor, target):\n",
    "    \"\"\"\n",
    "    Print the category counts and plot a stacked bar chart\n",
    "\n",
    "    data: dataframe\n",
    "    predictor: independent variable\n",
    "    target: target variable\n",
    "    \"\"\"\n",
    "    count = data[predictor].nunique()\n",
    "    sorter = data[target].value_counts().index[-1]\n",
    "    tab = pd.crosstab(data[predictor], data[target], normalize=\"index\").sort_values(\n",
    "        by=sorter, ascending=False\n",
    "    )\n",
    "    tab.plot(kind=\"bar\", stacked=True, figsize=(count + 5, 5))\n",
    "    plt.legend(\n",
    "        loc=\"lower left\",\n",
    "        frameon=False,\n",
    "    )\n",
    "    plt.legend(loc=\"upper left\", bbox_to_anchor=(1, 1))\n",
    "    plt.show()"
   ]
  },
  {
   "cell_type": "code",
   "execution_count": 31,
   "id": "42341034",
   "metadata": {},
   "outputs": [
    {
     "data": {
      "image/png": "[encoded data removed]",
      "text/plain": [
       "<Figure size 504x360 with 1 Axes>"
      ]
     },
     "metadata": {
      "needs_background": "light"
     },
     "output_type": "display_data"
    },
    {
     "data": {
      "application/javascript": [
       "\n",
       "            setTimeout(function() {\n",
       "                var nbb_cell_id = 31;\n",
       "                var nbb_unformatted_code = \"stacked_barplot(data, \\\"sex\\\", \\\"salary\\\")\";\n",
       "                var nbb_formatted_code = \"stacked_barplot(data, \\\"sex\\\", \\\"salary\\\")\";\n",
       "                var nbb_cells = Jupyter.notebook.get_cells();\n",
       "                for (var i = 0; i < nbb_cells.length; ++i) {\n",
       "                    if (nbb_cells[i].input_prompt_number == nbb_cell_id) {\n",
       "                        if (nbb_cells[i].get_text() == nbb_unformatted_code) {\n",
       "                             nbb_cells[i].set_text(nbb_formatted_code);\n",
       "                        }\n",
       "                        break;\n",
       "                    }\n",
       "                }\n",
       "            }, 500);\n",
       "            "
      ],
      "text/plain": [
       "<IPython.core.display.Javascript object>"
      ]
     },
     "metadata": {},
     "output_type": "display_data"
    }
   ],
   "source": [
    "stacked_barplot(data, \"sex\", \"salary\")"
   ]
  },
  {
   "cell_type": "code",
   "execution_count": 32,
   "id": "ede6b869",
   "metadata": {},
   "outputs": [
    {
     "data": {
      "image/png": "[encoded data removed]",
      "text/plain": [
       "<Figure size 1512x360 with 1 Axes>"
      ]
     },
     "metadata": {
      "needs_background": "light"
     },
     "output_type": "display_data"
    },
    {
     "data": {
      "application/javascript": [
       "\n",
       "            setTimeout(function() {\n",
       "                var nbb_cell_id = 32;\n",
       "                var nbb_unformatted_code = \"stacked_barplot(data, \\\"education\\\", \\\"salary\\\")\";\n",
       "                var nbb_formatted_code = \"stacked_barplot(data, \\\"education\\\", \\\"salary\\\")\";\n",
       "                var nbb_cells = Jupyter.notebook.get_cells();\n",
       "                for (var i = 0; i < nbb_cells.length; ++i) {\n",
       "                    if (nbb_cells[i].input_prompt_number == nbb_cell_id) {\n",
       "                        if (nbb_cells[i].get_text() == nbb_unformatted_code) {\n",
       "                             nbb_cells[i].set_text(nbb_formatted_code);\n",
       "                        }\n",
       "                        break;\n",
       "                    }\n",
       "                }\n",
       "            }, 500);\n",
       "            "
      ],
      "text/plain": [
       "<IPython.core.display.Javascript object>"
      ]
     },
     "metadata": {},
     "output_type": "display_data"
    }
   ],
   "source": [
    "stacked_barplot(data, \"education\", \"salary\")"
   ]
  },
  {
   "cell_type": "code",
   "execution_count": 33,
   "id": "0d216ee1",
   "metadata": {},
   "outputs": [
    {
     "data": {
      "image/png": "[encoded data removed]",
      "text/plain": [
       "<Figure size 1440x360 with 1 Axes>"
      ]
     },
     "metadata": {
      "needs_background": "light"
     },
     "output_type": "display_data"
    },
    {
     "data": {
      "application/javascript": [
       "\n",
       "            setTimeout(function() {\n",
       "                var nbb_cell_id = 33;\n",
       "                var nbb_unformatted_code = \"stacked_barplot(data, \\\"occupation\\\", \\\"salary\\\")\";\n",
       "                var nbb_formatted_code = \"stacked_barplot(data, \\\"occupation\\\", \\\"salary\\\")\";\n",
       "                var nbb_cells = Jupyter.notebook.get_cells();\n",
       "                for (var i = 0; i < nbb_cells.length; ++i) {\n",
       "                    if (nbb_cells[i].input_prompt_number == nbb_cell_id) {\n",
       "                        if (nbb_cells[i].get_text() == nbb_unformatted_code) {\n",
       "                             nbb_cells[i].set_text(nbb_formatted_code);\n",
       "                        }\n",
       "                        break;\n",
       "                    }\n",
       "                }\n",
       "            }, 500);\n",
       "            "
      ],
      "text/plain": [
       "<IPython.core.display.Javascript object>"
      ]
     },
     "metadata": {},
     "output_type": "display_data"
    }
   ],
   "source": [
    "stacked_barplot(data, \"occupation\", \"salary\")"
   ]
  },
  {
   "cell_type": "code",
   "execution_count": 34,
   "id": "075af914",
   "metadata": {},
   "outputs": [
    {
     "data": {
      "image/png": "[encoded data removed]",
      "text/plain": [
       "<Figure size 720x360 with 1 Axes>"
      ]
     },
     "metadata": {
      "needs_background": "light"
     },
     "output_type": "display_data"
    },
    {
     "data": {
      "application/javascript": [
       "\n",
       "            setTimeout(function() {\n",
       "                var nbb_cell_id = 34;\n",
       "                var nbb_unformatted_code = \"stacked_barplot(data, \\\"race\\\", \\\"salary\\\")\";\n",
       "                var nbb_formatted_code = \"stacked_barplot(data, \\\"race\\\", \\\"salary\\\")\";\n",
       "                var nbb_cells = Jupyter.notebook.get_cells();\n",
       "                for (var i = 0; i < nbb_cells.length; ++i) {\n",
       "                    if (nbb_cells[i].input_prompt_number == nbb_cell_id) {\n",
       "                        if (nbb_cells[i].get_text() == nbb_unformatted_code) {\n",
       "                             nbb_cells[i].set_text(nbb_formatted_code);\n",
       "                        }\n",
       "                        break;\n",
       "                    }\n",
       "                }\n",
       "            }, 500);\n",
       "            "
      ],
      "text/plain": [
       "<IPython.core.display.Javascript object>"
      ]
     },
     "metadata": {},
     "output_type": "display_data"
    }
   ],
   "source": [
    "stacked_barplot(data, \"race\", \"salary\")"
   ]
  },
  {
   "cell_type": "code",
   "execution_count": 35,
   "id": "2685fa03",
   "metadata": {},
   "outputs": [
    {
     "data": {
      "image/png": "[encoded data removed]",
      "text/plain": [
       "<Figure size 1008x360 with 1 Axes>"
      ]
     },
     "metadata": {
      "needs_background": "light"
     },
     "output_type": "display_data"
    },
    {
     "data": {
      "application/javascript": [
       "\n",
       "            setTimeout(function() {\n",
       "                var nbb_cell_id = 35;\n",
       "                var nbb_unformatted_code = \"stacked_barplot(data, \\\"workclass\\\", \\\"salary\\\")\";\n",
       "                var nbb_formatted_code = \"stacked_barplot(data, \\\"workclass\\\", \\\"salary\\\")\";\n",
       "                var nbb_cells = Jupyter.notebook.get_cells();\n",
       "                for (var i = 0; i < nbb_cells.length; ++i) {\n",
       "                    if (nbb_cells[i].input_prompt_number == nbb_cell_id) {\n",
       "                        if (nbb_cells[i].get_text() == nbb_unformatted_code) {\n",
       "                             nbb_cells[i].set_text(nbb_formatted_code);\n",
       "                        }\n",
       "                        break;\n",
       "                    }\n",
       "                }\n",
       "            }, 500);\n",
       "            "
      ],
      "text/plain": [
       "<IPython.core.display.Javascript object>"
      ]
     },
     "metadata": {},
     "output_type": "display_data"
    }
   ],
   "source": [
    "stacked_barplot(data, \"workclass\", \"salary\")"
   ]
  },
  {
   "cell_type": "code",
   "execution_count": 36,
   "id": "95313cfd",
   "metadata": {},
   "outputs": [
    {
     "data": {
      "image/png": "[encoded data removed]",
      "text/plain": [
       "<Figure size 576x360 with 1 Axes>"
      ]
     },
     "metadata": {
      "needs_background": "light"
     },
     "output_type": "display_data"
    },
    {
     "data": {
      "application/javascript": [
       "\n",
       "            setTimeout(function() {\n",
       "                var nbb_cell_id = 36;\n",
       "                var nbb_unformatted_code = \"stacked_barplot(data, \\\"marital_status\\\", \\\"salary\\\")\";\n",
       "                var nbb_formatted_code = \"stacked_barplot(data, \\\"marital_status\\\", \\\"salary\\\")\";\n",
       "                var nbb_cells = Jupyter.notebook.get_cells();\n",
       "                for (var i = 0; i < nbb_cells.length; ++i) {\n",
       "                    if (nbb_cells[i].input_prompt_number == nbb_cell_id) {\n",
       "                        if (nbb_cells[i].get_text() == nbb_unformatted_code) {\n",
       "                             nbb_cells[i].set_text(nbb_formatted_code);\n",
       "                        }\n",
       "                        break;\n",
       "                    }\n",
       "                }\n",
       "            }, 500);\n",
       "            "
      ],
      "text/plain": [
       "<IPython.core.display.Javascript object>"
      ]
     },
     "metadata": {},
     "output_type": "display_data"
    }
   ],
   "source": [
    "stacked_barplot(data, \"marital_status\", \"salary\")"
   ]
  },
  {
   "cell_type": "code",
   "execution_count": 31,
   "id": "9d58c08f",
   "metadata": {},
   "outputs": [
    {
     "data": {
      "text/plain": [
       "Index(['age', 'workclass', 'education', 'education_no_of_years',\n",
       "       'marital_status', 'occupation', 'race', 'sex', 'working_hours_per_week',\n",
       "       'native_country', 'salary'],\n",
       "      dtype='object')"
      ]
     },
     "execution_count": 31,
     "metadata": {},
     "output_type": "execute_result"
    }
   ],
   "source": [
    "data.columns"
   ]
  },
  {
   "cell_type": "code",
   "execution_count": 23,
   "id": "324b9483",
   "metadata": {},
   "outputs": [],
   "source": [
    "data.drop([\"fnlwgt\", \"capital_gain\", \"capital_loss\"], axis=1, inplace=True)"
   ]
  },
  {
   "cell_type": "code",
   "execution_count": 24,
   "id": "625dba06",
   "metadata": {
    "id": "A8b4w_FX9WLj"
   },
   "outputs": [],
   "source": [
    "numerical_col = data.select_dtypes(include=np.number).columns.tolist()"
   ]
  },
  {
   "cell_type": "code",
   "execution_count": 25,
   "id": "68764ea3",
   "metadata": {},
   "outputs": [],
   "source": [
    "# Encoding >50K as 0 and <=50K as 1\n",
    "data[\"salary\"] = data[\"salary\"].apply(lambda x: 1 if x == \" <=50K\" else 0)"
   ]
  },
  {
   "cell_type": "markdown",
   "id": "d36923c6",
   "metadata": {},
   "source": [
    "**Creating training and test sets.**"
   ]
  },
  {
   "cell_type": "code",
   "execution_count": 34,
   "id": "28c415d5",
   "metadata": {},
   "outputs": [],
   "source": [
    "X = data.drop([\"salary\", 'workclass', 'education', 'education_no_of_years', 'occupation', 'race', 'working_hours_per_week',\n",
    "       'native_country' ], axis=1)\n",
    "Y = data[\"salary\"]\n",
    "\n",
    "X = pd.get_dummies(X, drop_first=True)\n",
    "\n",
    "# Splitting data in train and test sets\n",
    "X_train, X_test, y_train, y_test = train_test_split(\n",
    "    X, Y, test_size=0.30, random_state=1\n",
    ")"
   ]
  },
  {
   "cell_type": "code",
   "execution_count": 35,
   "id": "f74f0398",
   "metadata": {},
   "outputs": [
    {
     "data": {
      "text/html": [
       "<div>\n",
       "<style scoped>\n",
       "    .dataframe tbody tr th:only-of-type {\n",
       "        vertical-align: middle;\n",
       "    }\n",
       "\n",
       "    .dataframe tbody tr th {\n",
       "        vertical-align: top;\n",
       "    }\n",
       "\n",
       "    .dataframe thead th {\n",
       "        text-align: right;\n",
       "    }\n",
       "</style>\n",
       "<table border=\"1\" class=\"dataframe\">\n",
       "  <thead>\n",
       "    <tr style=\"text-align: right;\">\n",
       "      <th></th>\n",
       "      <th>age</th>\n",
       "      <th>marital_status_married</th>\n",
       "      <th>marital_status_not_married</th>\n",
       "      <th>sex_ Male</th>\n",
       "    </tr>\n",
       "  </thead>\n",
       "  <tbody>\n",
       "    <tr>\n",
       "      <th>0</th>\n",
       "      <td>39</td>\n",
       "      <td>0</td>\n",
       "      <td>0</td>\n",
       "      <td>1</td>\n",
       "    </tr>\n",
       "    <tr>\n",
       "      <th>1</th>\n",
       "      <td>50</td>\n",
       "      <td>1</td>\n",
       "      <td>0</td>\n",
       "      <td>1</td>\n",
       "    </tr>\n",
       "    <tr>\n",
       "      <th>2</th>\n",
       "      <td>38</td>\n",
       "      <td>0</td>\n",
       "      <td>1</td>\n",
       "      <td>1</td>\n",
       "    </tr>\n",
       "    <tr>\n",
       "      <th>3</th>\n",
       "      <td>53</td>\n",
       "      <td>1</td>\n",
       "      <td>0</td>\n",
       "      <td>1</td>\n",
       "    </tr>\n",
       "    <tr>\n",
       "      <th>4</th>\n",
       "      <td>28</td>\n",
       "      <td>1</td>\n",
       "      <td>0</td>\n",
       "      <td>0</td>\n",
       "    </tr>\n",
       "  </tbody>\n",
       "</table>\n",
       "</div>"
      ],
      "text/plain": [
       "   age  marital_status_married  marital_status_not_married  sex_ Male\n",
       "0   39                       0                           0          1\n",
       "1   50                       1                           0          1\n",
       "2   38                       0                           1          1\n",
       "3   53                       1                           0          1\n",
       "4   28                       1                           0          0"
      ]
     },
     "execution_count": 35,
     "metadata": {},
     "output_type": "execute_result"
    }
   ],
   "source": [
    "X.head()"
   ]
  },
  {
   "cell_type": "code",
   "execution_count": 36,
   "id": "1aef0b81",
   "metadata": {},
   "outputs": [
    {
     "name": "stdout",
     "output_type": "stream",
     "text": [
      "Shape of Training set :  (22792, 4)\n",
      "Shape of test set :  (9769, 4)\n",
      "Percentage of classes in training set:\n",
      "1    0.753335\n",
      "0    0.246665\n",
      "Name: salary, dtype: float64\n",
      "Percentage of classes in test set:\n",
      "1    0.772853\n",
      "0    0.227147\n",
      "Name: salary, dtype: float64\n"
     ]
    }
   ],
   "source": [
    "print(\"Shape of Training set : \", X_train.shape)\n",
    "print(\"Shape of test set : \", X_test.shape)\n",
    "print(\"Percentage of classes in training set:\")\n",
    "print(y_train.value_counts(normalize=True))\n",
    "print(\"Percentage of classes in test set:\")\n",
    "print(y_test.value_counts(normalize=True))"
   ]
  },
  {
   "cell_type": "code",
   "execution_count": 37,
   "id": "fbbf168a",
   "metadata": {},
   "outputs": [],
   "source": [
    "# defining a function to compute different metrics to check performance of a classification model built using statsmodels\n",
    "def model_performance_classification_statsmodels(\n",
    "    model, predictors, target, threshold=0.5\n",
    "):\n",
    "    # checking which probabilities are greater than threshold\n",
    "    pred_temp = model.predict(predictors) > threshold\n",
    "    # rounding off the above values to get classes\n",
    "    pred = np.round(pred_temp)\n",
    "\n",
    "    acc = accuracy_score(target, pred)  # to compute Accuracy\n",
    "    recall = recall_score(target, pred)  # to compute Recall\n",
    "    precision = precision_score(target, pred)  # to compute Precision\n",
    "    f1 = f1_score(target, pred)  # to compute F1-score\n",
    "\n",
    "    # creating a dataframe of metrics\n",
    "    df_perf = pd.DataFrame(\n",
    "        {\n",
    "            \"Accuracy\": acc,\n",
    "            \"Recall\": recall,\n",
    "            \"Precision\": precision,\n",
    "            \"F1\": f1,\n",
    "        },\n",
    "        index=[0],\n",
    "    )\n",
    "\n",
    "    return df_perf"
   ]
  },
  {
   "cell_type": "code",
   "execution_count": 29,
   "id": "71424bac",
   "metadata": {},
   "outputs": [],
   "source": [
    "def confusion_matrix_statsmodels(model, predictors, target, threshold=0.5):\n",
    "    y_pred = model.predict(predictors) > threshold\n",
    "    cm = confusion_matrix(target, y_pred)\n",
    "    labels = np.asarray(\n",
    "        [\n",
    "            [\"{0:0.0f}\".format(item) + \"\\n{0:.2%}\".format(item / cm.flatten().sum())]\n",
    "            for item in cm.flatten()\n",
    "        ]\n",
    "    ).reshape(2, 2)\n",
    "\n",
    "    plt.figure(figsize=(6, 4))\n",
    "    sns.heatmap(cm, annot=labels, fmt=\"\")\n",
    "    plt.ylabel(\"True label\")\n",
    "    plt.xlabel(\"Predicted label\")"
   ]
  },
  {
   "cell_type": "markdown",
   "id": "5568c024",
   "metadata": {},
   "source": [
    "### Logistic Regression"
   ]
  },
  {
   "cell_type": "code",
   "execution_count": 38,
   "id": "8b17ea24",
   "metadata": {},
   "outputs": [],
   "source": [
    "X = data.drop([\"salary\", 'workclass', 'education', 'education_no_of_years', 'occupation', 'race', 'working_hours_per_week',\n",
    "       'native_country' ], axis=1)\n",
    "Y = data[\"salary\"]\n",
    "\n",
    "X = pd.get_dummies(X, drop_first=True)\n",
    "\n",
    "# Splitting data in train and test sets\n",
    "X_train, X_test, y_train, y_test = train_test_split(\n",
    "    X, Y, test_size=0.30, random_state=1\n",
    ")"
   ]
  },
  {
   "cell_type": "code",
   "execution_count": 39,
   "id": "7ed3652a",
   "metadata": {},
   "outputs": [
    {
     "name": "stdout",
     "output_type": "stream",
     "text": [
      "Coefficients: [[-0.02002793 -2.43873074 -0.470951   -0.27903574]]\n",
      "Intercept: [3.73597939]\n",
      "Training Performance\n",
      "\n"
     ]
    },
    {
     "data": {
      "text/html": [
       "<div>\n",
       "<style scoped>\n",
       "    .dataframe tbody tr th:only-of-type {\n",
       "        vertical-align: middle;\n",
       "    }\n",
       "\n",
       "    .dataframe tbody tr th {\n",
       "        vertical-align: top;\n",
       "    }\n",
       "\n",
       "    .dataframe thead th {\n",
       "        text-align: right;\n",
       "    }\n",
       "</style>\n",
       "<table border=\"1\" class=\"dataframe\">\n",
       "  <thead>\n",
       "    <tr style=\"text-align: right;\">\n",
       "      <th></th>\n",
       "      <th>Accuracy</th>\n",
       "      <th>Recall</th>\n",
       "      <th>Precision</th>\n",
       "      <th>F1</th>\n",
       "    </tr>\n",
       "  </thead>\n",
       "  <tbody>\n",
       "    <tr>\n",
       "      <th>0</th>\n",
       "      <td>0.743682</td>\n",
       "      <td>0.916715</td>\n",
       "      <td>0.781064</td>\n",
       "      <td>0.84347</td>\n",
       "    </tr>\n",
       "  </tbody>\n",
       "</table>\n",
       "</div>"
      ],
      "text/plain": [
       "   Accuracy    Recall  Precision       F1\n",
       "0  0.743682  0.916715   0.781064  0.84347"
      ]
     },
     "execution_count": 39,
     "metadata": {},
     "output_type": "execute_result"
    }
   ],
   "source": [
    "logit = LogisticRegression()\n",
    "logit.fit(X_train, y_train)  # train the model\n",
    "\n",
    "print(f\"Coefficients: {logit.coef_}\")\n",
    "print(f\"Intercept: {logit.intercept_}\")\n",
    "print(\"Training Performance\\n\")\n",
    "logit_train_perf = model_performance_classification_statsmodels(logit, X_train, y_train)\n",
    "logit_train_perf"
   ]
  },
  {
   "cell_type": "code",
   "execution_count": 53,
   "id": "5f0a7cae",
   "metadata": {},
   "outputs": [
    {
     "data": {
      "text/plain": [
       "0.5986876601124519"
      ]
     },
     "execution_count": 53,
     "metadata": {},
     "output_type": "execute_result"
    }
   ],
   "source": [
    "age = 45\n",
    "marital_status_married = 1\n",
    "marital_status_not_married = 0\n",
    "sex_Male = 0\n",
    "\n",
    "y = 3.73 -0.02*age -2.43*marital_status_married - 0.47*marital_status_not_married + 0.28*sex_Male\n",
    "ex = np.exp(y)\n",
    "p = ex/(ex + 1)\n",
    "p"
   ]
  },
  {
   "cell_type": "code",
   "execution_count": 58,
   "id": "dd5656f7",
   "metadata": {},
   "outputs": [
    {
     "data": {
      "text/plain": [
       "32.312981233743685"
      ]
     },
     "execution_count": 58,
     "metadata": {},
     "output_type": "execute_result"
    }
   ],
   "source": [
    "(np.exp(0.28)-1)*100"
   ]
  },
  {
   "cell_type": "code",
   "execution_count": 49,
   "id": "4d25fea1",
   "metadata": {},
   "outputs": [
    {
     "data": {
      "text/plain": [
       "0.598687660112452"
      ]
     },
     "execution_count": 49,
     "metadata": {},
     "output_type": "execute_result"
    }
   ],
   "source": [
    "1/(1 + np.exp(-y))"
   ]
  },
  {
   "cell_type": "code",
   "execution_count": 46,
   "id": "b7fde75a",
   "metadata": {},
   "outputs": [
    {
     "data": {
      "text/html": [
       "<div>\n",
       "<style scoped>\n",
       "    .dataframe tbody tr th:only-of-type {\n",
       "        vertical-align: middle;\n",
       "    }\n",
       "\n",
       "    .dataframe tbody tr th {\n",
       "        vertical-align: top;\n",
       "    }\n",
       "\n",
       "    .dataframe thead th {\n",
       "        text-align: right;\n",
       "    }\n",
       "</style>\n",
       "<table border=\"1\" class=\"dataframe\">\n",
       "  <thead>\n",
       "    <tr style=\"text-align: right;\">\n",
       "      <th></th>\n",
       "      <th>Accuracy</th>\n",
       "      <th>Recall</th>\n",
       "      <th>Precision</th>\n",
       "      <th>F1</th>\n",
       "    </tr>\n",
       "  </thead>\n",
       "  <tbody>\n",
       "    <tr>\n",
       "      <th>0</th>\n",
       "      <td>0.837957</td>\n",
       "      <td>0.918543</td>\n",
       "      <td>0.877515</td>\n",
       "      <td>0.89756</td>\n",
       "    </tr>\n",
       "  </tbody>\n",
       "</table>\n",
       "</div>"
      ],
      "text/plain": [
       "   Accuracy    Recall  Precision       F1\n",
       "0  0.837957  0.918543   0.877515  0.89756"
      ]
     },
     "execution_count": 46,
     "metadata": {},
     "output_type": "execute_result"
    },
    {
     "data": {
      "application/javascript": [
       "\n",
       "            setTimeout(function() {\n",
       "                var nbb_cell_id = 46;\n",
       "                var nbb_unformatted_code = \"logit_test_perf = model_performance_classification_statsmodels(logit, X_test, y_test)\\nlogit_test_perf\";\n",
       "                var nbb_formatted_code = \"logit_test_perf = model_performance_classification_statsmodels(logit, X_test, y_test)\\nlogit_test_perf\";\n",
       "                var nbb_cells = Jupyter.notebook.get_cells();\n",
       "                for (var i = 0; i < nbb_cells.length; ++i) {\n",
       "                    if (nbb_cells[i].input_prompt_number == nbb_cell_id) {\n",
       "                        if (nbb_cells[i].get_text() == nbb_unformatted_code) {\n",
       "                             nbb_cells[i].set_text(nbb_formatted_code);\n",
       "                        }\n",
       "                        break;\n",
       "                    }\n",
       "                }\n",
       "            }, 500);\n",
       "            "
      ],
      "text/plain": [
       "<IPython.core.display.Javascript object>"
      ]
     },
     "metadata": {},
     "output_type": "display_data"
    }
   ],
   "source": [
    "logit_test_perf = model_performance_classification_statsmodels(logit, X_test, y_test)\n",
    "logit_test_perf"
   ]
  },
  {
   "cell_type": "code",
   "execution_count": 47,
   "id": "73daa6d8",
   "metadata": {},
   "outputs": [
    {
     "data": {
      "text/html": [
       "<div>\n",
       "<style scoped>\n",
       "    .dataframe tbody tr th:only-of-type {\n",
       "        vertical-align: middle;\n",
       "    }\n",
       "\n",
       "    .dataframe tbody tr th {\n",
       "        vertical-align: top;\n",
       "    }\n",
       "\n",
       "    .dataframe thead th {\n",
       "        text-align: right;\n",
       "    }\n",
       "</style>\n",
       "<table border=\"1\" class=\"dataframe\">\n",
       "  <thead>\n",
       "    <tr style=\"text-align: right;\">\n",
       "      <th></th>\n",
       "      <th>Feature_Names</th>\n",
       "      <th>Coefficient</th>\n",
       "    </tr>\n",
       "  </thead>\n",
       "  <tbody>\n",
       "    <tr>\n",
       "      <th>0</th>\n",
       "      <td>Intercept</td>\n",
       "      <td>4.177457</td>\n",
       "    </tr>\n",
       "    <tr>\n",
       "      <th>1</th>\n",
       "      <td>age</td>\n",
       "      <td>-0.021912</td>\n",
       "    </tr>\n",
       "    <tr>\n",
       "      <th>2</th>\n",
       "      <td>education_no_of_years</td>\n",
       "      <td>-0.139558</td>\n",
       "    </tr>\n",
       "    <tr>\n",
       "      <th>3</th>\n",
       "      <td>working_hours_per_week</td>\n",
       "      <td>-0.025350</td>\n",
       "    </tr>\n",
       "    <tr>\n",
       "      <th>4</th>\n",
       "      <td>workclass_ Local-gov</td>\n",
       "      <td>0.850072</td>\n",
       "    </tr>\n",
       "    <tr>\n",
       "      <th>5</th>\n",
       "      <td>workclass_ Never-worked</td>\n",
       "      <td>0.010863</td>\n",
       "    </tr>\n",
       "    <tr>\n",
       "      <th>6</th>\n",
       "      <td>workclass_ Private</td>\n",
       "      <td>0.651874</td>\n",
       "    </tr>\n",
       "    <tr>\n",
       "      <th>7</th>\n",
       "      <td>workclass_ Self-emp-inc</td>\n",
       "      <td>0.085816</td>\n",
       "    </tr>\n",
       "    <tr>\n",
       "      <th>8</th>\n",
       "      <td>workclass_ Self-emp-not-inc</td>\n",
       "      <td>1.080984</td>\n",
       "    </tr>\n",
       "    <tr>\n",
       "      <th>9</th>\n",
       "      <td>workclass_ State-gov</td>\n",
       "      <td>0.812596</td>\n",
       "    </tr>\n",
       "    <tr>\n",
       "      <th>10</th>\n",
       "      <td>workclass_ Without-pay</td>\n",
       "      <td>0.050210</td>\n",
       "    </tr>\n",
       "    <tr>\n",
       "      <th>11</th>\n",
       "      <td>workclass_Unknown</td>\n",
       "      <td>0.701992</td>\n",
       "    </tr>\n",
       "    <tr>\n",
       "      <th>12</th>\n",
       "      <td>education_ 11th</td>\n",
       "      <td>1.059694</td>\n",
       "    </tr>\n",
       "    <tr>\n",
       "      <th>13</th>\n",
       "      <td>education_ 12th</td>\n",
       "      <td>0.457986</td>\n",
       "    </tr>\n",
       "    <tr>\n",
       "      <th>14</th>\n",
       "      <td>education_ 1st-4th</td>\n",
       "      <td>0.312297</td>\n",
       "    </tr>\n",
       "    <tr>\n",
       "      <th>15</th>\n",
       "      <td>education_ 5th-6th</td>\n",
       "      <td>0.597222</td>\n",
       "    </tr>\n",
       "    <tr>\n",
       "      <th>16</th>\n",
       "      <td>education_ 7th-8th</td>\n",
       "      <td>1.078519</td>\n",
       "    </tr>\n",
       "    <tr>\n",
       "      <th>17</th>\n",
       "      <td>education_ 9th</td>\n",
       "      <td>0.835617</td>\n",
       "    </tr>\n",
       "    <tr>\n",
       "      <th>18</th>\n",
       "      <td>education_ Assoc-acdm</td>\n",
       "      <td>0.274058</td>\n",
       "    </tr>\n",
       "    <tr>\n",
       "      <th>19</th>\n",
       "      <td>education_ Assoc-voc</td>\n",
       "      <td>0.125441</td>\n",
       "    </tr>\n",
       "    <tr>\n",
       "      <th>20</th>\n",
       "      <td>education_ Bachelors</td>\n",
       "      <td>-0.272566</td>\n",
       "    </tr>\n",
       "    <tr>\n",
       "      <th>21</th>\n",
       "      <td>education_ Doctorate</td>\n",
       "      <td>-0.751636</td>\n",
       "    </tr>\n",
       "    <tr>\n",
       "      <th>22</th>\n",
       "      <td>education_ HS-grad</td>\n",
       "      <td>0.259066</td>\n",
       "    </tr>\n",
       "    <tr>\n",
       "      <th>23</th>\n",
       "      <td>education_ Masters</td>\n",
       "      <td>-0.564384</td>\n",
       "    </tr>\n",
       "    <tr>\n",
       "      <th>24</th>\n",
       "      <td>education_ Preschool</td>\n",
       "      <td>0.125564</td>\n",
       "    </tr>\n",
       "    <tr>\n",
       "      <th>25</th>\n",
       "      <td>education_ Prof-school</td>\n",
       "      <td>-1.107914</td>\n",
       "    </tr>\n",
       "    <tr>\n",
       "      <th>26</th>\n",
       "      <td>education_ Some-college</td>\n",
       "      <td>0.158814</td>\n",
       "    </tr>\n",
       "    <tr>\n",
       "      <th>27</th>\n",
       "      <td>marital_status_married</td>\n",
       "      <td>-2.547309</td>\n",
       "    </tr>\n",
       "    <tr>\n",
       "      <th>28</th>\n",
       "      <td>marital_status_not_married</td>\n",
       "      <td>-0.493462</td>\n",
       "    </tr>\n",
       "    <tr>\n",
       "      <th>29</th>\n",
       "      <td>occupation_ Armed-Forces</td>\n",
       "      <td>0.022656</td>\n",
       "    </tr>\n",
       "    <tr>\n",
       "      <th>30</th>\n",
       "      <td>occupation_ Craft-repair</td>\n",
       "      <td>-0.009239</td>\n",
       "    </tr>\n",
       "    <tr>\n",
       "      <th>31</th>\n",
       "      <td>occupation_ Exec-managerial</td>\n",
       "      <td>-0.694596</td>\n",
       "    </tr>\n",
       "    <tr>\n",
       "      <th>32</th>\n",
       "      <td>occupation_ Farming-fishing</td>\n",
       "      <td>1.035366</td>\n",
       "    </tr>\n",
       "    <tr>\n",
       "      <th>33</th>\n",
       "      <td>occupation_ Handlers-cleaners</td>\n",
       "      <td>0.930984</td>\n",
       "    </tr>\n",
       "    <tr>\n",
       "      <th>34</th>\n",
       "      <td>occupation_ Machine-op-inspct</td>\n",
       "      <td>0.550467</td>\n",
       "    </tr>\n",
       "    <tr>\n",
       "      <th>35</th>\n",
       "      <td>occupation_ Other-service</td>\n",
       "      <td>1.428115</td>\n",
       "    </tr>\n",
       "    <tr>\n",
       "      <th>36</th>\n",
       "      <td>occupation_ Priv-house-serv</td>\n",
       "      <td>0.185222</td>\n",
       "    </tr>\n",
       "    <tr>\n",
       "      <th>37</th>\n",
       "      <td>occupation_ Prof-specialty</td>\n",
       "      <td>-0.415027</td>\n",
       "    </tr>\n",
       "    <tr>\n",
       "      <th>38</th>\n",
       "      <td>occupation_ Protective-serv</td>\n",
       "      <td>-0.355504</td>\n",
       "    </tr>\n",
       "    <tr>\n",
       "      <th>39</th>\n",
       "      <td>occupation_ Sales</td>\n",
       "      <td>-0.177271</td>\n",
       "    </tr>\n",
       "    <tr>\n",
       "      <th>40</th>\n",
       "      <td>occupation_ Tech-support</td>\n",
       "      <td>-0.539967</td>\n",
       "    </tr>\n",
       "    <tr>\n",
       "      <th>41</th>\n",
       "      <td>occupation_ Transport-moving</td>\n",
       "      <td>0.247222</td>\n",
       "    </tr>\n",
       "    <tr>\n",
       "      <th>42</th>\n",
       "      <td>occupation_Unknown</td>\n",
       "      <td>0.712855</td>\n",
       "    </tr>\n",
       "    <tr>\n",
       "      <th>43</th>\n",
       "      <td>race_ Asian-Pac-Islander</td>\n",
       "      <td>1.459120</td>\n",
       "    </tr>\n",
       "    <tr>\n",
       "      <th>44</th>\n",
       "      <td>race_ Black</td>\n",
       "      <td>0.864753</td>\n",
       "    </tr>\n",
       "    <tr>\n",
       "      <th>45</th>\n",
       "      <td>race_ Other</td>\n",
       "      <td>0.520245</td>\n",
       "    </tr>\n",
       "    <tr>\n",
       "      <th>46</th>\n",
       "      <td>race_ White</td>\n",
       "      <td>0.700174</td>\n",
       "    </tr>\n",
       "    <tr>\n",
       "      <th>47</th>\n",
       "      <td>sex_ Male</td>\n",
       "      <td>-0.102470</td>\n",
       "    </tr>\n",
       "    <tr>\n",
       "      <th>48</th>\n",
       "      <td>native_country_europe</td>\n",
       "      <td>0.587207</td>\n",
       "    </tr>\n",
       "    <tr>\n",
       "      <th>49</th>\n",
       "      <td>native_country_north_america</td>\n",
       "      <td>0.717703</td>\n",
       "    </tr>\n",
       "    <tr>\n",
       "      <th>50</th>\n",
       "      <td>native_country_other</td>\n",
       "      <td>1.037820</td>\n",
       "    </tr>\n",
       "    <tr>\n",
       "      <th>51</th>\n",
       "      <td>native_country_south_america</td>\n",
       "      <td>0.392615</td>\n",
       "    </tr>\n",
       "  </tbody>\n",
       "</table>\n",
       "</div>"
      ],
      "text/plain": [
       "                    Feature_Names  Coefficient\n",
       "0                       Intercept     4.177457\n",
       "1                             age    -0.021912\n",
       "2           education_no_of_years    -0.139558\n",
       "3          working_hours_per_week    -0.025350\n",
       "4            workclass_ Local-gov     0.850072\n",
       "5         workclass_ Never-worked     0.010863\n",
       "6              workclass_ Private     0.651874\n",
       "7         workclass_ Self-emp-inc     0.085816\n",
       "8     workclass_ Self-emp-not-inc     1.080984\n",
       "9            workclass_ State-gov     0.812596\n",
       "10         workclass_ Without-pay     0.050210\n",
       "11              workclass_Unknown     0.701992\n",
       "12                education_ 11th     1.059694\n",
       "13                education_ 12th     0.457986\n",
       "14             education_ 1st-4th     0.312297\n",
       "15             education_ 5th-6th     0.597222\n",
       "16             education_ 7th-8th     1.078519\n",
       "17                 education_ 9th     0.835617\n",
       "18          education_ Assoc-acdm     0.274058\n",
       "19           education_ Assoc-voc     0.125441\n",
       "20           education_ Bachelors    -0.272566\n",
       "21           education_ Doctorate    -0.751636\n",
       "22             education_ HS-grad     0.259066\n",
       "23             education_ Masters    -0.564384\n",
       "24           education_ Preschool     0.125564\n",
       "25         education_ Prof-school    -1.107914\n",
       "26        education_ Some-college     0.158814\n",
       "27         marital_status_married    -2.547309\n",
       "28     marital_status_not_married    -0.493462\n",
       "29       occupation_ Armed-Forces     0.022656\n",
       "30       occupation_ Craft-repair    -0.009239\n",
       "31    occupation_ Exec-managerial    -0.694596\n",
       "32    occupation_ Farming-fishing     1.035366\n",
       "33  occupation_ Handlers-cleaners     0.930984\n",
       "34  occupation_ Machine-op-inspct     0.550467\n",
       "35      occupation_ Other-service     1.428115\n",
       "36    occupation_ Priv-house-serv     0.185222\n",
       "37     occupation_ Prof-specialty    -0.415027\n",
       "38    occupation_ Protective-serv    -0.355504\n",
       "39              occupation_ Sales    -0.177271\n",
       "40       occupation_ Tech-support    -0.539967\n",
       "41   occupation_ Transport-moving     0.247222\n",
       "42             occupation_Unknown     0.712855\n",
       "43       race_ Asian-Pac-Islander     1.459120\n",
       "44                    race_ Black     0.864753\n",
       "45                    race_ Other     0.520245\n",
       "46                    race_ White     0.700174\n",
       "47                      sex_ Male    -0.102470\n",
       "48          native_country_europe     0.587207\n",
       "49   native_country_north_america     0.717703\n",
       "50           native_country_other     1.037820\n",
       "51   native_country_south_america     0.392615"
      ]
     },
     "execution_count": 47,
     "metadata": {},
     "output_type": "execute_result"
    },
    {
     "data": {
      "application/javascript": [
       "\n",
       "            setTimeout(function() {\n",
       "                var nbb_cell_id = 47;\n",
       "                var nbb_unformatted_code = \"features_names = [\\\"Intercept\\\"] + list(logit.feature_names_in_)\\ncoef = list(logit.intercept_) + list(*logit.coef_)\\nlogit_summary = pd.DataFrame({\\\"Feature_Names\\\": features_names, \\\"Coefficient\\\": coef})\\nlogit_summary\";\n",
       "                var nbb_formatted_code = \"features_names = [\\\"Intercept\\\"] + list(logit.feature_names_in_)\\ncoef = list(logit.intercept_) + list(*logit.coef_)\\nlogit_summary = pd.DataFrame({\\\"Feature_Names\\\": features_names, \\\"Coefficient\\\": coef})\\nlogit_summary\";\n",
       "                var nbb_cells = Jupyter.notebook.get_cells();\n",
       "                for (var i = 0; i < nbb_cells.length; ++i) {\n",
       "                    if (nbb_cells[i].input_prompt_number == nbb_cell_id) {\n",
       "                        if (nbb_cells[i].get_text() == nbb_unformatted_code) {\n",
       "                             nbb_cells[i].set_text(nbb_formatted_code);\n",
       "                        }\n",
       "                        break;\n",
       "                    }\n",
       "                }\n",
       "            }, 500);\n",
       "            "
      ],
      "text/plain": [
       "<IPython.core.display.Javascript object>"
      ]
     },
     "metadata": {},
     "output_type": "display_data"
    }
   ],
   "source": [
    "features_names = [\"Intercept\"] + list(logit.feature_names_in_)\n",
    "coef = list(logit.intercept_) + list(*logit.coef_)\n",
    "logit_summary = pd.DataFrame({\"Feature_Names\": features_names, \"Coefficient\": coef})\n",
    "logit_summary"
   ]
  },
  {
   "cell_type": "code",
   "execution_count": 48,
   "id": "fd394507",
   "metadata": {},
   "outputs": [
    {
     "data": {
      "text/html": [
       "<div>\n",
       "<style scoped>\n",
       "    .dataframe tbody tr th:only-of-type {\n",
       "        vertical-align: middle;\n",
       "    }\n",
       "\n",
       "    .dataframe tbody tr th {\n",
       "        vertical-align: top;\n",
       "    }\n",
       "\n",
       "    .dataframe thead th {\n",
       "        text-align: right;\n",
       "    }\n",
       "</style>\n",
       "<table border=\"1\" class=\"dataframe\">\n",
       "  <thead>\n",
       "    <tr style=\"text-align: right;\">\n",
       "      <th></th>\n",
       "      <th>Feature_Names</th>\n",
       "      <th>Coefficient</th>\n",
       "      <th>odds</th>\n",
       "      <th>percent_change_odds</th>\n",
       "    </tr>\n",
       "  </thead>\n",
       "  <tbody>\n",
       "    <tr>\n",
       "      <th>0</th>\n",
       "      <td>Intercept</td>\n",
       "      <td>4.177457</td>\n",
       "      <td>65.199824</td>\n",
       "      <td>6419.982353</td>\n",
       "    </tr>\n",
       "    <tr>\n",
       "      <th>1</th>\n",
       "      <td>age</td>\n",
       "      <td>-0.021912</td>\n",
       "      <td>0.978327</td>\n",
       "      <td>-2.167329</td>\n",
       "    </tr>\n",
       "    <tr>\n",
       "      <th>2</th>\n",
       "      <td>education_no_of_years</td>\n",
       "      <td>-0.139558</td>\n",
       "      <td>0.869742</td>\n",
       "      <td>-13.025751</td>\n",
       "    </tr>\n",
       "    <tr>\n",
       "      <th>3</th>\n",
       "      <td>working_hours_per_week</td>\n",
       "      <td>-0.025350</td>\n",
       "      <td>0.974968</td>\n",
       "      <td>-2.503160</td>\n",
       "    </tr>\n",
       "    <tr>\n",
       "      <th>4</th>\n",
       "      <td>workclass_ Local-gov</td>\n",
       "      <td>0.850072</td>\n",
       "      <td>2.339816</td>\n",
       "      <td>133.981575</td>\n",
       "    </tr>\n",
       "    <tr>\n",
       "      <th>5</th>\n",
       "      <td>workclass_ Never-worked</td>\n",
       "      <td>0.010863</td>\n",
       "      <td>1.010922</td>\n",
       "      <td>1.092247</td>\n",
       "    </tr>\n",
       "    <tr>\n",
       "      <th>6</th>\n",
       "      <td>workclass_ Private</td>\n",
       "      <td>0.651874</td>\n",
       "      <td>1.919134</td>\n",
       "      <td>91.913430</td>\n",
       "    </tr>\n",
       "    <tr>\n",
       "      <th>7</th>\n",
       "      <td>workclass_ Self-emp-inc</td>\n",
       "      <td>0.085816</td>\n",
       "      <td>1.089605</td>\n",
       "      <td>8.960528</td>\n",
       "    </tr>\n",
       "    <tr>\n",
       "      <th>8</th>\n",
       "      <td>workclass_ Self-emp-not-inc</td>\n",
       "      <td>1.080984</td>\n",
       "      <td>2.947577</td>\n",
       "      <td>194.757709</td>\n",
       "    </tr>\n",
       "    <tr>\n",
       "      <th>9</th>\n",
       "      <td>workclass_ State-gov</td>\n",
       "      <td>0.812596</td>\n",
       "      <td>2.253750</td>\n",
       "      <td>125.375041</td>\n",
       "    </tr>\n",
       "    <tr>\n",
       "      <th>10</th>\n",
       "      <td>workclass_ Without-pay</td>\n",
       "      <td>0.050210</td>\n",
       "      <td>1.051492</td>\n",
       "      <td>5.149233</td>\n",
       "    </tr>\n",
       "    <tr>\n",
       "      <th>11</th>\n",
       "      <td>workclass_Unknown</td>\n",
       "      <td>0.701992</td>\n",
       "      <td>2.017768</td>\n",
       "      <td>101.776761</td>\n",
       "    </tr>\n",
       "    <tr>\n",
       "      <th>12</th>\n",
       "      <td>education_ 11th</td>\n",
       "      <td>1.059694</td>\n",
       "      <td>2.885488</td>\n",
       "      <td>188.548782</td>\n",
       "    </tr>\n",
       "    <tr>\n",
       "      <th>13</th>\n",
       "      <td>education_ 12th</td>\n",
       "      <td>0.457986</td>\n",
       "      <td>1.580887</td>\n",
       "      <td>58.088709</td>\n",
       "    </tr>\n",
       "    <tr>\n",
       "      <th>14</th>\n",
       "      <td>education_ 1st-4th</td>\n",
       "      <td>0.312297</td>\n",
       "      <td>1.366560</td>\n",
       "      <td>36.656019</td>\n",
       "    </tr>\n",
       "    <tr>\n",
       "      <th>15</th>\n",
       "      <td>education_ 5th-6th</td>\n",
       "      <td>0.597222</td>\n",
       "      <td>1.817064</td>\n",
       "      <td>81.706384</td>\n",
       "    </tr>\n",
       "    <tr>\n",
       "      <th>16</th>\n",
       "      <td>education_ 7th-8th</td>\n",
       "      <td>1.078519</td>\n",
       "      <td>2.940321</td>\n",
       "      <td>194.032070</td>\n",
       "    </tr>\n",
       "    <tr>\n",
       "      <th>17</th>\n",
       "      <td>education_ 9th</td>\n",
       "      <td>0.835617</td>\n",
       "      <td>2.306236</td>\n",
       "      <td>130.623602</td>\n",
       "    </tr>\n",
       "    <tr>\n",
       "      <th>18</th>\n",
       "      <td>education_ Assoc-acdm</td>\n",
       "      <td>0.274058</td>\n",
       "      <td>1.315291</td>\n",
       "      <td>31.529104</td>\n",
       "    </tr>\n",
       "    <tr>\n",
       "      <th>19</th>\n",
       "      <td>education_ Assoc-voc</td>\n",
       "      <td>0.125441</td>\n",
       "      <td>1.133649</td>\n",
       "      <td>13.364864</td>\n",
       "    </tr>\n",
       "    <tr>\n",
       "      <th>20</th>\n",
       "      <td>education_ Bachelors</td>\n",
       "      <td>-0.272566</td>\n",
       "      <td>0.761423</td>\n",
       "      <td>-23.857652</td>\n",
       "    </tr>\n",
       "    <tr>\n",
       "      <th>21</th>\n",
       "      <td>education_ Doctorate</td>\n",
       "      <td>-0.751636</td>\n",
       "      <td>0.471594</td>\n",
       "      <td>-52.840558</td>\n",
       "    </tr>\n",
       "    <tr>\n",
       "      <th>22</th>\n",
       "      <td>education_ HS-grad</td>\n",
       "      <td>0.259066</td>\n",
       "      <td>1.295719</td>\n",
       "      <td>29.571899</td>\n",
       "    </tr>\n",
       "    <tr>\n",
       "      <th>23</th>\n",
       "      <td>education_ Masters</td>\n",
       "      <td>-0.564384</td>\n",
       "      <td>0.568710</td>\n",
       "      <td>-43.128962</td>\n",
       "    </tr>\n",
       "    <tr>\n",
       "      <th>24</th>\n",
       "      <td>education_ Preschool</td>\n",
       "      <td>0.125564</td>\n",
       "      <td>1.133788</td>\n",
       "      <td>13.378792</td>\n",
       "    </tr>\n",
       "    <tr>\n",
       "      <th>25</th>\n",
       "      <td>education_ Prof-school</td>\n",
       "      <td>-1.107914</td>\n",
       "      <td>0.330247</td>\n",
       "      <td>-66.975288</td>\n",
       "    </tr>\n",
       "    <tr>\n",
       "      <th>26</th>\n",
       "      <td>education_ Some-college</td>\n",
       "      <td>0.158814</td>\n",
       "      <td>1.172120</td>\n",
       "      <td>17.212042</td>\n",
       "    </tr>\n",
       "    <tr>\n",
       "      <th>27</th>\n",
       "      <td>marital_status_married</td>\n",
       "      <td>-2.547309</td>\n",
       "      <td>0.078292</td>\n",
       "      <td>-92.170796</td>\n",
       "    </tr>\n",
       "    <tr>\n",
       "      <th>28</th>\n",
       "      <td>marital_status_not_married</td>\n",
       "      <td>-0.493462</td>\n",
       "      <td>0.610509</td>\n",
       "      <td>-38.949082</td>\n",
       "    </tr>\n",
       "    <tr>\n",
       "      <th>29</th>\n",
       "      <td>occupation_ Armed-Forces</td>\n",
       "      <td>0.022656</td>\n",
       "      <td>1.022914</td>\n",
       "      <td>2.291420</td>\n",
       "    </tr>\n",
       "    <tr>\n",
       "      <th>30</th>\n",
       "      <td>occupation_ Craft-repair</td>\n",
       "      <td>-0.009239</td>\n",
       "      <td>0.990803</td>\n",
       "      <td>-0.919665</td>\n",
       "    </tr>\n",
       "    <tr>\n",
       "      <th>31</th>\n",
       "      <td>occupation_ Exec-managerial</td>\n",
       "      <td>-0.694596</td>\n",
       "      <td>0.499276</td>\n",
       "      <td>-50.072413</td>\n",
       "    </tr>\n",
       "    <tr>\n",
       "      <th>32</th>\n",
       "      <td>occupation_ Farming-fishing</td>\n",
       "      <td>1.035366</td>\n",
       "      <td>2.816137</td>\n",
       "      <td>181.613738</td>\n",
       "    </tr>\n",
       "    <tr>\n",
       "      <th>33</th>\n",
       "      <td>occupation_ Handlers-cleaners</td>\n",
       "      <td>0.930984</td>\n",
       "      <td>2.537004</td>\n",
       "      <td>153.700380</td>\n",
       "    </tr>\n",
       "    <tr>\n",
       "      <th>34</th>\n",
       "      <td>occupation_ Machine-op-inspct</td>\n",
       "      <td>0.550467</td>\n",
       "      <td>1.734062</td>\n",
       "      <td>73.406206</td>\n",
       "    </tr>\n",
       "    <tr>\n",
       "      <th>35</th>\n",
       "      <td>occupation_ Other-service</td>\n",
       "      <td>1.428115</td>\n",
       "      <td>4.170828</td>\n",
       "      <td>317.082820</td>\n",
       "    </tr>\n",
       "    <tr>\n",
       "      <th>36</th>\n",
       "      <td>occupation_ Priv-house-serv</td>\n",
       "      <td>0.185222</td>\n",
       "      <td>1.203486</td>\n",
       "      <td>20.348557</td>\n",
       "    </tr>\n",
       "    <tr>\n",
       "      <th>37</th>\n",
       "      <td>occupation_ Prof-specialty</td>\n",
       "      <td>-0.415027</td>\n",
       "      <td>0.660322</td>\n",
       "      <td>-33.967786</td>\n",
       "    </tr>\n",
       "    <tr>\n",
       "      <th>38</th>\n",
       "      <td>occupation_ Protective-serv</td>\n",
       "      <td>-0.355504</td>\n",
       "      <td>0.700820</td>\n",
       "      <td>-29.917968</td>\n",
       "    </tr>\n",
       "    <tr>\n",
       "      <th>39</th>\n",
       "      <td>occupation_ Sales</td>\n",
       "      <td>-0.177271</td>\n",
       "      <td>0.837553</td>\n",
       "      <td>-16.244711</td>\n",
       "    </tr>\n",
       "    <tr>\n",
       "      <th>40</th>\n",
       "      <td>occupation_ Tech-support</td>\n",
       "      <td>-0.539967</td>\n",
       "      <td>0.582767</td>\n",
       "      <td>-41.723256</td>\n",
       "    </tr>\n",
       "    <tr>\n",
       "      <th>41</th>\n",
       "      <td>occupation_ Transport-moving</td>\n",
       "      <td>0.247222</td>\n",
       "      <td>1.280463</td>\n",
       "      <td>28.046278</td>\n",
       "    </tr>\n",
       "    <tr>\n",
       "      <th>42</th>\n",
       "      <td>occupation_Unknown</td>\n",
       "      <td>0.712855</td>\n",
       "      <td>2.039807</td>\n",
       "      <td>103.980661</td>\n",
       "    </tr>\n",
       "    <tr>\n",
       "      <th>43</th>\n",
       "      <td>race_ Asian-Pac-Islander</td>\n",
       "      <td>1.459120</td>\n",
       "      <td>4.302170</td>\n",
       "      <td>330.216997</td>\n",
       "    </tr>\n",
       "    <tr>\n",
       "      <th>44</th>\n",
       "      <td>race_ Black</td>\n",
       "      <td>0.864753</td>\n",
       "      <td>2.374419</td>\n",
       "      <td>137.441949</td>\n",
       "    </tr>\n",
       "    <tr>\n",
       "      <th>45</th>\n",
       "      <td>race_ Other</td>\n",
       "      <td>0.520245</td>\n",
       "      <td>1.682440</td>\n",
       "      <td>68.243997</td>\n",
       "    </tr>\n",
       "    <tr>\n",
       "      <th>46</th>\n",
       "      <td>race_ White</td>\n",
       "      <td>0.700174</td>\n",
       "      <td>2.014104</td>\n",
       "      <td>101.410365</td>\n",
       "    </tr>\n",
       "    <tr>\n",
       "      <th>47</th>\n",
       "      <td>sex_ Male</td>\n",
       "      <td>-0.102470</td>\n",
       "      <td>0.902605</td>\n",
       "      <td>-9.739482</td>\n",
       "    </tr>\n",
       "    <tr>\n",
       "      <th>48</th>\n",
       "      <td>native_country_europe</td>\n",
       "      <td>0.587207</td>\n",
       "      <td>1.798957</td>\n",
       "      <td>79.895720</td>\n",
       "    </tr>\n",
       "    <tr>\n",
       "      <th>49</th>\n",
       "      <td>native_country_north_america</td>\n",
       "      <td>0.717703</td>\n",
       "      <td>2.049719</td>\n",
       "      <td>104.971904</td>\n",
       "    </tr>\n",
       "    <tr>\n",
       "      <th>50</th>\n",
       "      <td>native_country_other</td>\n",
       "      <td>1.037820</td>\n",
       "      <td>2.823056</td>\n",
       "      <td>182.305571</td>\n",
       "    </tr>\n",
       "    <tr>\n",
       "      <th>51</th>\n",
       "      <td>native_country_south_america</td>\n",
       "      <td>0.392615</td>\n",
       "      <td>1.480848</td>\n",
       "      <td>48.084777</td>\n",
       "    </tr>\n",
       "  </tbody>\n",
       "</table>\n",
       "</div>"
      ],
      "text/plain": [
       "                    Feature_Names  Coefficient       odds  percent_change_odds\n",
       "0                       Intercept     4.177457  65.199824          6419.982353\n",
       "1                             age    -0.021912   0.978327            -2.167329\n",
       "2           education_no_of_years    -0.139558   0.869742           -13.025751\n",
       "3          working_hours_per_week    -0.025350   0.974968            -2.503160\n",
       "4            workclass_ Local-gov     0.850072   2.339816           133.981575\n",
       "5         workclass_ Never-worked     0.010863   1.010922             1.092247\n",
       "6              workclass_ Private     0.651874   1.919134            91.913430\n",
       "7         workclass_ Self-emp-inc     0.085816   1.089605             8.960528\n",
       "8     workclass_ Self-emp-not-inc     1.080984   2.947577           194.757709\n",
       "9            workclass_ State-gov     0.812596   2.253750           125.375041\n",
       "10         workclass_ Without-pay     0.050210   1.051492             5.149233\n",
       "11              workclass_Unknown     0.701992   2.017768           101.776761\n",
       "12                education_ 11th     1.059694   2.885488           188.548782\n",
       "13                education_ 12th     0.457986   1.580887            58.088709\n",
       "14             education_ 1st-4th     0.312297   1.366560            36.656019\n",
       "15             education_ 5th-6th     0.597222   1.817064            81.706384\n",
       "16             education_ 7th-8th     1.078519   2.940321           194.032070\n",
       "17                 education_ 9th     0.835617   2.306236           130.623602\n",
       "18          education_ Assoc-acdm     0.274058   1.315291            31.529104\n",
       "19           education_ Assoc-voc     0.125441   1.133649            13.364864\n",
       "20           education_ Bachelors    -0.272566   0.761423           -23.857652\n",
       "21           education_ Doctorate    -0.751636   0.471594           -52.840558\n",
       "22             education_ HS-grad     0.259066   1.295719            29.571899\n",
       "23             education_ Masters    -0.564384   0.568710           -43.128962\n",
       "24           education_ Preschool     0.125564   1.133788            13.378792\n",
       "25         education_ Prof-school    -1.107914   0.330247           -66.975288\n",
       "26        education_ Some-college     0.158814   1.172120            17.212042\n",
       "27         marital_status_married    -2.547309   0.078292           -92.170796\n",
       "28     marital_status_not_married    -0.493462   0.610509           -38.949082\n",
       "29       occupation_ Armed-Forces     0.022656   1.022914             2.291420\n",
       "30       occupation_ Craft-repair    -0.009239   0.990803            -0.919665\n",
       "31    occupation_ Exec-managerial    -0.694596   0.499276           -50.072413\n",
       "32    occupation_ Farming-fishing     1.035366   2.816137           181.613738\n",
       "33  occupation_ Handlers-cleaners     0.930984   2.537004           153.700380\n",
       "34  occupation_ Machine-op-inspct     0.550467   1.734062            73.406206\n",
       "35      occupation_ Other-service     1.428115   4.170828           317.082820\n",
       "36    occupation_ Priv-house-serv     0.185222   1.203486            20.348557\n",
       "37     occupation_ Prof-specialty    -0.415027   0.660322           -33.967786\n",
       "38    occupation_ Protective-serv    -0.355504   0.700820           -29.917968\n",
       "39              occupation_ Sales    -0.177271   0.837553           -16.244711\n",
       "40       occupation_ Tech-support    -0.539967   0.582767           -41.723256\n",
       "41   occupation_ Transport-moving     0.247222   1.280463            28.046278\n",
       "42             occupation_Unknown     0.712855   2.039807           103.980661\n",
       "43       race_ Asian-Pac-Islander     1.459120   4.302170           330.216997\n",
       "44                    race_ Black     0.864753   2.374419           137.441949\n",
       "45                    race_ Other     0.520245   1.682440            68.243997\n",
       "46                    race_ White     0.700174   2.014104           101.410365\n",
       "47                      sex_ Male    -0.102470   0.902605            -9.739482\n",
       "48          native_country_europe     0.587207   1.798957            79.895720\n",
       "49   native_country_north_america     0.717703   2.049719           104.971904\n",
       "50           native_country_other     1.037820   2.823056           182.305571\n",
       "51   native_country_south_america     0.392615   1.480848            48.084777"
      ]
     },
     "execution_count": 48,
     "metadata": {},
     "output_type": "execute_result"
    },
    {
     "data": {
      "application/javascript": [
       "\n",
       "            setTimeout(function() {\n",
       "                var nbb_cell_id = 48;\n",
       "                var nbb_unformatted_code = \"logit_summary[\\\"odds\\\"] = np.exp(logit_summary[\\\"Coefficient\\\"])\\nlogit_summary[\\\"percent_change_odds\\\"] = (np.exp(logit_summary[\\\"Coefficient\\\"]) - 1) * 100\\nlogit_summary\";\n",
       "                var nbb_formatted_code = \"logit_summary[\\\"odds\\\"] = np.exp(logit_summary[\\\"Coefficient\\\"])\\nlogit_summary[\\\"percent_change_odds\\\"] = (np.exp(logit_summary[\\\"Coefficient\\\"]) - 1) * 100\\nlogit_summary\";\n",
       "                var nbb_cells = Jupyter.notebook.get_cells();\n",
       "                for (var i = 0; i < nbb_cells.length; ++i) {\n",
       "                    if (nbb_cells[i].input_prompt_number == nbb_cell_id) {\n",
       "                        if (nbb_cells[i].get_text() == nbb_unformatted_code) {\n",
       "                             nbb_cells[i].set_text(nbb_formatted_code);\n",
       "                        }\n",
       "                        break;\n",
       "                    }\n",
       "                }\n",
       "            }, 500);\n",
       "            "
      ],
      "text/plain": [
       "<IPython.core.display.Javascript object>"
      ]
     },
     "metadata": {},
     "output_type": "display_data"
    }
   ],
   "source": [
    "logit_summary[\"odds\"] = np.exp(logit_summary[\"Coefficient\"])\n",
    "logit_summary[\"percent_change_odds\"] = (np.exp(logit_summary[\"Coefficient\"]) - 1) * 100\n",
    "logit_summary"
   ]
  },
  {
   "cell_type": "markdown",
   "id": "08da20e2",
   "metadata": {},
   "source": [
    "#### Checking model performance on the training set"
   ]
  },
  {
   "cell_type": "code",
   "execution_count": 49,
   "id": "3f4b0144",
   "metadata": {},
   "outputs": [
    {
     "data": {
      "image/png": "[encoded data removed]",
      "text/plain": [
       "<Figure size 432x288 with 2 Axes>"
      ]
     },
     "metadata": {
      "needs_background": "light"
     },
     "output_type": "display_data"
    },
    {
     "data": {
      "application/javascript": [
       "\n",
       "            setTimeout(function() {\n",
       "                var nbb_cell_id = 49;\n",
       "                var nbb_unformatted_code = \"# creating confusion matrix\\nconfusion_matrix_statsmodels(logit, X_train, y_train)\";\n",
       "                var nbb_formatted_code = \"# creating confusion matrix\\nconfusion_matrix_statsmodels(logit, X_train, y_train)\";\n",
       "                var nbb_cells = Jupyter.notebook.get_cells();\n",
       "                for (var i = 0; i < nbb_cells.length; ++i) {\n",
       "                    if (nbb_cells[i].input_prompt_number == nbb_cell_id) {\n",
       "                        if (nbb_cells[i].get_text() == nbb_unformatted_code) {\n",
       "                             nbb_cells[i].set_text(nbb_formatted_code);\n",
       "                        }\n",
       "                        break;\n",
       "                    }\n",
       "                }\n",
       "            }, 500);\n",
       "            "
      ],
      "text/plain": [
       "<IPython.core.display.Javascript object>"
      ]
     },
     "metadata": {},
     "output_type": "display_data"
    }
   ],
   "source": [
    "# creating confusion matrix\n",
    "confusion_matrix_statsmodels(logit, X_train, y_train)"
   ]
  },
  {
   "cell_type": "code",
   "execution_count": 50,
   "id": "61b4c5aa",
   "metadata": {},
   "outputs": [
    {
     "data": {
      "image/png": "[encoded data removed]",
      "text/plain": [
       "<Figure size 432x288 with 2 Axes>"
      ]
     },
     "metadata": {
      "needs_background": "light"
     },
     "output_type": "display_data"
    },
    {
     "data": {
      "application/javascript": [
       "\n",
       "            setTimeout(function() {\n",
       "                var nbb_cell_id = 50;\n",
       "                var nbb_unformatted_code = \"# creating confusion matrix\\nconfusion_matrix_statsmodels(logit, X_test, y_test)\";\n",
       "                var nbb_formatted_code = \"# creating confusion matrix\\nconfusion_matrix_statsmodels(logit, X_test, y_test)\";\n",
       "                var nbb_cells = Jupyter.notebook.get_cells();\n",
       "                for (var i = 0; i < nbb_cells.length; ++i) {\n",
       "                    if (nbb_cells[i].input_prompt_number == nbb_cell_id) {\n",
       "                        if (nbb_cells[i].get_text() == nbb_unformatted_code) {\n",
       "                             nbb_cells[i].set_text(nbb_formatted_code);\n",
       "                        }\n",
       "                        break;\n",
       "                    }\n",
       "                }\n",
       "            }, 500);\n",
       "            "
      ],
      "text/plain": [
       "<IPython.core.display.Javascript object>"
      ]
     },
     "metadata": {},
     "output_type": "display_data"
    }
   ],
   "source": [
    "# creating confusion matrix\n",
    "confusion_matrix_statsmodels(logit, X_test, y_test)"
   ]
  },
  {
   "cell_type": "code",
   "execution_count": null,
   "id": "6f8f22f4",
   "metadata": {},
   "outputs": [],
   "source": []
  }
 ],
 "metadata": {
  "kernelspec": {
   "display_name": "Python 3 (ipykernel)",
   "language": "python",
   "name": "python3"
  },
  "language_info": {
   "codemirror_mode": {
    "name": "ipython",
    "version": 3
   },
   "file_extension": ".py",
   "mimetype": "text/x-python",
   "name": "python",
   "nbconvert_exporter": "python",
   "pygments_lexer": "ipython3",
   "version": "3.9.12"
  }
 },
 "nbformat": 4,
 "nbformat_minor": 5
}
