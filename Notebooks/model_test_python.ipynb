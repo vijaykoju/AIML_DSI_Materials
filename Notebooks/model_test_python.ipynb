{
 "cells": [
  {
   "cell_type": "code",
   "execution_count": 1,
   "id": "12646969",
   "metadata": {},
   "outputs": [
    {
     "name": "stdout",
     "output_type": "stream",
     "text": [
      "b'{\"Results\": {\"WebServiceOutput0\": [{\"age\": 39, \"workclass\": \"State-gov\", \"education\": \"Bachelors\", \"education-num\": 13, \"marital-status\": \"Never-married\", \"occupation\": \"Adm-clerical\", \"relationship\": \"Not-in-family\", \"race\": \"White\", \"sex\": \"Male\", \"capital-gain\": 2174, \"capital-loss\": 0, \"hours-per-week\": 40, \"native-country\": \"United-States\", \"income\": \"<=50K\", \"Scored Labels\": \"<=50K\", \"Scored Probabilities\": 0.14012388606859927}, {\"age\": 50, \"workclass\": \"Self-emp-not-inc\", \"education\": \"Bachelors\", \"education-num\": 13, \"marital-status\": \"Married-civ-spouse\", \"occupation\": \"Exec-managerial\", \"relationship\": \"Husband\", \"race\": \"White\", \"sex\": \"Male\", \"capital-gain\": 0, \"capital-loss\": 0, \"hours-per-week\": 13, \"native-country\": \"United-States\", \"income\": \"<=50K\", \"Scored Labels\": \"<=50K\", \"Scored Probabilities\": 0.4320109071569894}, {\"age\": 38, \"workclass\": \"Private\", \"education\": \"HS-grad\", \"education-num\": 9, \"marital-status\": \"Divorced\", \"occupation\": \"Handlers-cleaners\", \"relationship\": \"Not-in-family\", \"race\": \"White\", \"sex\": \"Male\", \"capital-gain\": 0, \"capital-loss\": 0, \"hours-per-week\": 40, \"native-country\": \"United-States\", \"income\": \"<=50K\", \"Scored Labels\": \"<=50K\", \"Scored Probabilities\": 0.030220957095735614}]}}'\n"
     ]
    }
   ],
   "source": [
    "import urllib.request\n",
    "import json\n",
    "import os\n",
    "import ssl\n",
    "\n",
    "def allowSelfSignedHttps(allowed):\n",
    "    # bypass the server certificate verification on client side\n",
    "    if allowed and not os.environ.get('PYTHONHTTPSVERIFY', '') and getattr(ssl, '_create_unverified_context', None):\n",
    "        ssl._create_default_https_context = ssl._create_unverified_context\n",
    "\n",
    "allowSelfSignedHttps(True) # this line is needed if you use self-signed certificate in your scoring service.\n",
    "\n",
    "# Request data goes here\n",
    "# The example below assumes JSON formatting which may be updated\n",
    "# depending on the format your endpoint expects.\n",
    "# More information can be found here:\n",
    "# https://docs.microsoft.com/azure/machine-learning/how-to-deploy-advanced-entry-script\n",
    "data =  {\n",
    "  \"Inputs\": {\n",
    "    \"WebServiceInput0\": [\n",
    "      {\n",
    "        \"age\": 39,\n",
    "        \"workclass\": \"State-gov\",\n",
    "        \"education\": \"Bachelors\",\n",
    "        \"education-num\": 13,\n",
    "        \"marital-status\": \"Never-married\",\n",
    "        \"occupation\": \"Adm-clerical\",\n",
    "        \"relationship\": \"Not-in-family\",\n",
    "        \"race\": \"White\",\n",
    "        \"sex\": \"Male\",\n",
    "        \"capital-gain\": 2174,\n",
    "        \"capital-loss\": 0,\n",
    "        \"hours-per-week\": 40,\n",
    "        \"native-country\": \"United-States\",\n",
    "        \"income\": \"<=50K\"\n",
    "      },\n",
    "      {\n",
    "        \"age\": 50,\n",
    "        \"workclass\": \"Self-emp-not-inc\",\n",
    "        \"education\": \"Bachelors\",\n",
    "        \"education-num\": 13,\n",
    "        \"marital-status\": \"Married-civ-spouse\",\n",
    "        \"occupation\": \"Exec-managerial\",\n",
    "        \"relationship\": \"Husband\",\n",
    "        \"race\": \"White\",\n",
    "        \"sex\": \"Male\",\n",
    "        \"capital-gain\": 0,\n",
    "        \"capital-loss\": 0,\n",
    "        \"hours-per-week\": 13,\n",
    "        \"native-country\": \"United-States\",\n",
    "        \"income\": \"<=50K\"\n",
    "      },\n",
    "      {\n",
    "        \"age\": 38,\n",
    "        \"workclass\": \"Private\",\n",
    "        \"education\": \"HS-grad\",\n",
    "        \"education-num\": 9,\n",
    "        \"marital-status\": \"Divorced\",\n",
    "        \"occupation\": \"Handlers-cleaners\",\n",
    "        \"relationship\": \"Not-in-family\",\n",
    "        \"race\": \"White\",\n",
    "        \"sex\": \"Male\",\n",
    "        \"capital-gain\": 0,\n",
    "        \"capital-loss\": 0,\n",
    "        \"hours-per-week\": 40,\n",
    "        \"native-country\": \"United-States\",\n",
    "        \"income\": \"<=50K\"\n",
    "      }\n",
    "    ]\n",
    "  },\n",
    "  \"GlobalParameters\": {}\n",
    "}\n",
    "\n",
    "body = str.encode(json.dumps(data))\n",
    "\n",
    "url = # enter you endpoint url here\n",
    "api_key =  # Replace this with the API key for the web service\n",
    "\n",
    "# The azureml-model-deployment header will force the request to go to a specific deployment.\n",
    "# Remove this header to have the request observe the endpoint traffic rules\n",
    "headers = {'Content-Type':'application/json', 'Authorization':('Bearer '+ api_key)}\n",
    "\n",
    "req = urllib.request.Request(url, body, headers)\n",
    "\n",
    "try:\n",
    "    response = urllib.request.urlopen(req)\n",
    "\n",
    "    result = response.read()\n",
    "    print(result)\n",
    "except urllib.error.HTTPError as error:\n",
    "    print(\"The request failed with status code: \" + str(error.code))"
   ]
  },
  {
   "cell_type": "code",
   "execution_count": null,
   "id": "011a1486",
   "metadata": {},
   "outputs": [],
   "source": []
  }
 ],
 "metadata": {
  "kernelspec": {
   "display_name": "Python 3.9.12 ('base')",
   "language": "python",
   "name": "python3"
  },
  "language_info": {
   "codemirror_mode": {
    "name": "ipython",
    "version": 3
   },
   "file_extension": ".py",
   "mimetype": "text/x-python",
   "name": "python",
   "nbconvert_exporter": "python",
   "pygments_lexer": "ipython3",
   "version": "3.9.12"
  },
  "vscode": {
   "interpreter": {
    "hash": "81e374b3269ecf0079033d8d54c3b8445e57606735e601277613154e83e18b39"
   }
  }
 },
 "nbformat": 4,
 "nbformat_minor": 5
}
